{
  "nbformat": 4,
  "nbformat_minor": 0,
  "metadata": {
    "colab": {
      "private_outputs": true,
      "provenance": [],
      "authorship_tag": "ABX9TyM5FXsujbjkrEodlitEMDNS",
      "include_colab_link": true
    },
    "kernelspec": {
      "name": "python3",
      "display_name": "Python 3"
    },
    "language_info": {
      "name": "python"
    }
  },
  "cells": [
    {
      "cell_type": "markdown",
      "metadata": {
        "id": "view-in-github",
        "colab_type": "text"
      },
      "source": [
        "<a href=\"https://colab.research.google.com/github/wndgua0468/machine_learning/blob/main/%EA%B8%B0%EA%B3%84%ED%95%99%EC%8A%B5_4%EC%A3%BC%EC%B0%A8.ipynb\" target=\"_parent\"><img src=\"https://colab.research.google.com/assets/colab-badge.svg\" alt=\"Open In Colab\"/></a>"
      ]
    },
    {
      "cell_type": "code",
      "execution_count": null,
      "metadata": {
        "id": "aUNpNI9CaPDX"
      },
      "outputs": [],
      "source": [
        "import pandas as pd\n",
        "import numpy as np\n",
        "import matplotlib.pyplot as plt\n"
      ]
    },
    {
      "cell_type": "code",
      "source": [
        "df = pd.read_csv(\"/content/data_ex.csv\")"
      ],
      "metadata": {
        "id": "_c3E2TUHf687"
      },
      "execution_count": null,
      "outputs": []
    },
    {
      "cell_type": "code",
      "source": [
        "df\n"
      ],
      "metadata": {
        "id": "FGIUPxgUkhqJ"
      },
      "execution_count": null,
      "outputs": []
    },
    {
      "cell_type": "code",
      "source": [
        "df.head()"
      ],
      "metadata": {
        "id": "9CzdiIWDgiEL"
      },
      "execution_count": null,
      "outputs": []
    },
    {
      "cell_type": "code",
      "source": [
        "df.info()"
      ],
      "metadata": {
        "id": "nF9IjGDhgphC"
      },
      "execution_count": null,
      "outputs": []
    },
    {
      "cell_type": "code",
      "source": [
        "df.sample(5, random_state=1)"
      ],
      "metadata": {
        "id": "1L1haMRPkm1i"
      },
      "execution_count": null,
      "outputs": []
    },
    {
      "cell_type": "code",
      "source": [
        "df.sample(frac=0.3)"
      ],
      "metadata": {
        "id": "hKxveqX0k06q"
      },
      "execution_count": null,
      "outputs": []
    },
    {
      "cell_type": "code",
      "source": [
        "df.count()"
      ],
      "metadata": {
        "id": "ir5alCZck9Ab"
      },
      "execution_count": null,
      "outputs": []
    },
    {
      "cell_type": "code",
      "source": [
        "df['AGE'].sum()"
      ],
      "metadata": {
        "id": "QXeFCQ7SlDxV"
      },
      "execution_count": null,
      "outputs": []
    },
    {
      "cell_type": "code",
      "source": [
        "##수치형 데이터의 기술 통계량\n",
        "df.describe()"
      ],
      "metadata": {
        "id": "vxpNcd-Zlbch"
      },
      "execution_count": null,
      "outputs": []
    },
    {
      "cell_type": "code",
      "source": [
        "##범주형 데이터 (unique:#범주형 데이터 수)  (freq(frequency):출현횟수)\n",
        "df[['SEX', 'AREA']]. describe()"
      ],
      "metadata": {
        "id": "DOb0FAJ4lkHR"
      },
      "execution_count": null,
      "outputs": []
    },
    {
      "cell_type": "code",
      "source": [
        "##범주형 데이터의 고유한 종류\n",
        "df['SEX'].unique()"
      ],
      "metadata": {
        "id": "TmVW6uJEl_-w"
      },
      "execution_count": null,
      "outputs": []
    },
    {
      "cell_type": "code",
      "source": [
        "df['AREA'].unique()"
      ],
      "metadata": {
        "id": "u7iIVnMTmtla"
      },
      "execution_count": null,
      "outputs": []
    },
    {
      "cell_type": "code",
      "source": [
        "df['SEX'].value_counts()"
      ],
      "metadata": {
        "id": "JCjl_tSNm2LJ"
      },
      "execution_count": null,
      "outputs": []
    },
    {
      "cell_type": "code",
      "source": [
        "df['AREA'].value_counts()"
      ],
      "metadata": {
        "id": "AiTNBnF-nBqq"
      },
      "execution_count": null,
      "outputs": []
    },
    {
      "cell_type": "code",
      "source": [
        "df['AGE'].sort_counts()"
      ],
      "metadata": {
        "id": "1YiQ0rVLnElh"
      },
      "execution_count": null,
      "outputs": []
    },
    {
      "cell_type": "code",
      "source": [
        "age = df[\"AGE\"].values.tolist()\n",
        "age"
      ],
      "metadata": {
        "id": "N6ajzpHInS4a"
      },
      "execution_count": null,
      "outputs": []
    },
    {
      "cell_type": "code",
      "source": [
        "age = df[\"AGE\"].values.tolist()\n",
        "plt.hist(age, bins = 50)\n",
        "plt.ylim([0,3])\n",
        "plt.xlabel(\"age\")\n",
        "plt.ylabel('Num')"
      ],
      "metadata": {
        "id": "0FRbx8DhoJii"
      },
      "execution_count": null,
      "outputs": []
    },
    {
      "cell_type": "code",
      "source": [
        "sex = df[\"SEX\"].values.tolist()\n",
        "plt.hist(sex)\n",
        "plt.ylim([0,10])\n",
        "plt.xlabel(\"SEX\")\n",
        "plt.ylabel('Num')"
      ],
      "metadata": {
        "id": "QXvb4bcGoldV"
      },
      "execution_count": null,
      "outputs": []
    },
    {
      "cell_type": "code",
      "source": [
        "##그룹화\n",
        "grouped_sex=df.groupby(\"SEX\")\n",
        "print(grouped_sex)"
      ],
      "metadata": {
        "id": "rEIw3gLvppWH"
      },
      "execution_count": null,
      "outputs": []
    },
    {
      "cell_type": "code",
      "source": [
        "for key, value in grouped_sex:\n",
        "  print(\"key :\", key)\n",
        "  print(\"value :\", value)"
      ],
      "metadata": {
        "id": "0YhkjxFyqOq5"
      },
      "execution_count": null,
      "outputs": []
    },
    {
      "cell_type": "code",
      "source": [
        "df.groupby(\"SEX\")"
      ],
      "metadata": {
        "id": "PR_MWXBgqp4N"
      },
      "execution_count": null,
      "outputs": []
    },
    {
      "cell_type": "code",
      "source": [
        "df.groupby(\"SEX\").sum()"
      ],
      "metadata": {
        "id": "ckgqZTPsqwwH"
      },
      "execution_count": null,
      "outputs": []
    },
    {
      "cell_type": "code",
      "source": [
        "df[\"중년\"] = df[\"AGE\"] > 49\n",
        "df"
      ],
      "metadata": {
        "id": "-12w-5Leq03W"
      },
      "execution_count": null,
      "outputs": []
    },
    {
      "cell_type": "code",
      "source": [
        "def age_name(Age):\n",
        "  name = ''\n",
        "  if Age <= 25 : name = '사회초년생'\n",
        "  elif Age <= 35 and Age < 25 : name = \"사회생활 1~10년차\"\n",
        "  elif Age <= 45 : name = \"관리자 역할\"\n",
        "  else : name = \"은퇴 예정자\"\n",
        "  return name"
      ],
      "metadata": {
        "id": "6DGvUPUfrFdP"
      },
      "execution_count": null,
      "outputs": []
    },
    {
      "cell_type": "code",
      "source": [
        "file = \"/content/chipotle.tsv\"\n",
        "chipo = pd.read_csv(file, sep =\"\\t\")\n",
        "print(chipo.shape)\n",
        "print(\"_______________________________\")\n",
        "print(chipo.info())\n",
        "print(\"_______________________________\")"
      ],
      "metadata": {
        "id": "CuCJ1yYqsT4K"
      },
      "execution_count": null,
      "outputs": []
    },
    {
      "cell_type": "code",
      "source": [],
      "metadata": {
        "id": "nQCzwClYuKJC"
      },
      "execution_count": null,
      "outputs": []
    },
    {
      "cell_type": "markdown",
      "source": [
        "가장 많이 주문한 메뉴 top10 출력력"
      ],
      "metadata": {
        "id": "ASSwxMgIyvU_"
      }
    },
    {
      "cell_type": "code",
      "source": [
        "item_count = chipo['item_name'].value_count()\n",
        "item_count"
      ],
      "metadata": {
        "id": "mLNew08ovLbh"
      },
      "execution_count": null,
      "outputs": []
    },
    {
      "cell_type": "markdown",
      "source": [
        "가장 많이 주문한 메뉴 top10 출력력"
      ],
      "metadata": {
        "id": "KzSYmVOx0swQ"
      }
    },
    {
      "cell_type": "code",
      "source": [
        "item_name_10 = chipo['item_name'].value_counts()[:10]\n",
        "print(item_name_10)"
      ],
      "metadata": {
        "id": "2E-_8xZl0tnw"
      },
      "execution_count": null,
      "outputs": []
    },
    {
      "cell_type": "code",
      "source": [
        "for idx, (item, value) in enumerate(item_name_10.items(), 1):\n",
        "  print(\"Top {} : {} {}\".format(idx,item, value))"
      ],
      "metadata": {
        "id": "QUX_LP511Ml0"
      },
      "execution_count": null,
      "outputs": []
    },
    {
      "cell_type": "code",
      "source": [
        "for idx, (item, value) in enumerate(item_name_10.items(), 1):\n",
        "  print(\"Top {} : {}\".format(idx,value))"
      ],
      "metadata": {
        "id": "n0p5T3t42fTE"
      },
      "execution_count": null,
      "outputs": []
    },
    {
      "cell_type": "code",
      "source": [
        "##hist(list명)그리기\n",
        "item_name = chipo['item_name'].value_counts()\n",
        "plt.hist(item_name, bins=30)\n",
        "plt.xlabel(\"ordered_item_name\")\n",
        "plt.ylabel(\"ordered_item_count\")\n",
        "plt.show()"
      ],
      "metadata": {
        "id": "3GtnEGLp3HSS"
      },
      "execution_count": null,
      "outputs": []
    },
    {
      "cell_type": "code",
      "source": [],
      "metadata": {
        "id": "oUebfQfQ47kO"
      },
      "execution_count": null,
      "outputs": []
    },
    {
      "cell_type": "markdown",
      "source": [
        "2. 아이템 별 주문수량 분석석\n",
        "\n",
        "아이템당 주문 개수와 총량 구하기\n",
        "\n",
        "시각화(bar)\n",
        "\n"
      ],
      "metadata": {
        "id": "zlQaDgMkxXbp"
      }
    },
    {
      "cell_type": "code",
      "source": [
        "item_quantity = chipo.groupby('item_name')['quantity'].count()\n",
        "item_quantity\n"
      ],
      "metadata": {
        "id": "FP7ZYSQxxcIA"
      },
      "execution_count": null,
      "outputs": []
    },
    {
      "cell_type": "code",
      "source": [
        "##x축으로\n",
        "item_quantity.index\n"
      ],
      "metadata": {
        "id": "192MKQ2A7U09"
      },
      "execution_count": null,
      "outputs": []
    },
    {
      "cell_type": "code",
      "source": [
        "##y축으로\n",
        "item_quantity.values"
      ],
      "metadata": {
        "id": "UVg2i7m17f3C"
      },
      "execution_count": null,
      "outputs": []
    },
    {
      "cell_type": "code",
      "source": [
        "item_quantity_index = item_quantity.index.tolist()\n",
        "len(item_quantity_index)"
      ],
      "metadata": {
        "id": "MImS2VpO7_3R"
      },
      "execution_count": null,
      "outputs": []
    },
    {
      "cell_type": "code",
      "source": [
        "x= np.arange(len(item_quantity_index))\n",
        "x"
      ],
      "metadata": {
        "id": "KHSzGVZi8_QI"
      },
      "execution_count": null,
      "outputs": []
    },
    {
      "cell_type": "code",
      "source": [
        "item_price_values = item_price.values.tolist()"
      ],
      "metadata": {
        "id": "fb7FYD6KFr7b"
      },
      "execution_count": null,
      "outputs": []
    },
    {
      "cell_type": "code",
      "source": [],
      "metadata": {
        "id": "qd7HLWndF0Zk"
      },
      "execution_count": null,
      "outputs": []
    },
    {
      "cell_type": "code",
      "source": [],
      "metadata": {
        "id": "9RSKa1y2FwIX"
      },
      "execution_count": null,
      "outputs": []
    },
    {
      "cell_type": "code",
      "source": [
        "order_cnt= item_quantity.values.tolist()\n",
        "print(order_cnt)\n",
        "     "
      ],
      "metadata": {
        "id": "8vHr-cs09AcE"
      },
      "execution_count": null,
      "outputs": []
    },
    {
      "cell_type": "code",
      "source": [
        "##bar(x,y)\n",
        "plt.bar(x,order_cnt)\n",
        "plt.xlabel(\"item_name\")\n",
        "plt.ylabel(\"order_count\")\n",
        "plt.title(\"Distribution of all Ordered item\")\n",
        "plt.show()\n"
      ],
      "metadata": {
        "id": "aD9nuodp-d7o"
      },
      "execution_count": null,
      "outputs": []
    },
    {
      "cell_type": "markdown",
      "source": [
        "3.주문당 평균 주문 금액 계산\n",
        "\n",
        "-10달러 이상 주문한 주문 번호 출력\n",
        "-아이템별 주문 금액 분포도도"
      ],
      "metadata": {
        "id": "mzxwmKAY_1_g"
      }
    },
    {
      "cell_type": "code",
      "source": [
        "chipo.head()"
      ],
      "metadata": {
        "id": "-Ag1Lb78Aucp"
      },
      "execution_count": null,
      "outputs": []
    },
    {
      "cell_type": "code",
      "source": [
        "chipo.info()"
      ],
      "metadata": {
        "id": "hWEix7e5CrHq"
      },
      "execution_count": null,
      "outputs": []
    },
    {
      "cell_type": "code",
      "source": [
        "##item_price를 수치형으로 변환\n",
        "chipo['item_price'] = chipo['item_price'].apply(lambda x : float(x[1:]))"
      ],
      "metadata": {
        "id": "sgJBAxFvCwTc"
      },
      "execution_count": null,
      "outputs": []
    },
    {
      "cell_type": "code",
      "source": [
        "##주문번호당 평균금액 계산\n",
        "item_price = chipo.groupby('order_id')['item_price'].sum()\n",
        "item_price\n"
      ],
      "metadata": {
        "id": "_qKJolxq-SPc"
      },
      "execution_count": null,
      "outputs": []
    },
    {
      "cell_type": "code",
      "source": [
        "##hist()그리기\n",
        "plt.hist(item_price,bins =30)\n",
        "plt.xlim([0,130])\n",
        "plt.xlabel('item_price')\n",
        "plt.ylabel('price_count')\n",
        "plt.show()"
      ],
      "metadata": {
        "id": "jm3sy-5aEfsH"
      },
      "execution_count": null,
      "outputs": []
    },
    {
      "cell_type": "code",
      "source": [
        "item_price_values = item_price.values.tolist()"
      ],
      "metadata": {
        "id": "n5dZ4nBUFdgb"
      },
      "execution_count": null,
      "outputs": []
    },
    {
      "cell_type": "code",
      "source": [
        "plt.bar(x,item_price_values)\n",
        "plt. xlabel('order_id')\n",
        "plt. ylabel('item_price')\n",
        "plt.ylim([0,100])\n",
        "plt.title('distribution of item price')\n",
        "plt.show()"
      ],
      "metadata": {
        "id": "m7o_i4iAD542"
      },
      "execution_count": null,
      "outputs": []
    },
    {
      "cell_type": "code",
      "source": [
        "##4주차 과제 "
      ],
      "metadata": {
        "id": "cZjKpT-WEP85"
      },
      "execution_count": null,
      "outputs": []
    }
  ]
}
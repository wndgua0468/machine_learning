{
  "nbformat": 4,
  "nbformat_minor": 0,
  "metadata": {
    "colab": {
      "provenance": [],
      "authorship_tag": "ABX9TyPMuVHeeNMMIC71Dqx7pAvM",
      "include_colab_link": true
    },
    "kernelspec": {
      "name": "python3",
      "display_name": "Python 3"
    },
    "language_info": {
      "name": "python"
    }
  },
  "cells": [
    {
      "cell_type": "markdown",
      "metadata": {
        "id": "view-in-github",
        "colab_type": "text"
      },
      "source": [
        "<a href=\"https://colab.research.google.com/github/wndgua0468/machine_learning/blob/main/%EA%B8%B0%EA%B3%84%ED%95%99%EC%8A%B5_7%EC%A3%BC%EC%B0%A8.ipynb\" target=\"_parent\"><img src=\"https://colab.research.google.com/assets/colab-badge.svg\" alt=\"Open In Colab\"/></a>"
      ]
    },
    {
      "cell_type": "code",
      "execution_count": 1,
      "metadata": {
        "id": "ZfFN4zS8jBQU"
      },
      "outputs": [],
      "source": [
        "import tensorflow as tf\n",
        "import numpy as np\n",
        "import matplotlib.pyplot as plt\n"
      ]
    },
    {
      "cell_type": "markdown",
      "source": [
        "심층 신경망으로 이미지 분류\n",
        "1. 이미지 데이테셋 로드\n",
        "2. 이미지 데이터넷 정규화 : 수렴속도 증가\n",
        "3. DenseLayer 에 입력하기 위한 차워축소 : reshape():shape\n",
        "4. 모델 생성( DenseLayer(노드수, 활성화 함수))\n",
        "5. complie(): 컴파일(옵티마이저, 손실함수, 평가지표)\n",
        "6. fit():훈련\n",
        "7. evaluate(): 검증\n",
        "8. predicr():예측\n",
        "\n"
      ],
      "metadata": {
        "id": "Ef1tbARbtldO"
      }
    },
    {
      "cell_type": "markdown",
      "source": [
        "1. 데이테셋 업로드"
      ],
      "metadata": {
        "id": "5K-Uw6d7wL9v"
      }
    },
    {
      "cell_type": "code",
      "source": [
        "##1. 데이테셋 업로드\n",
        "mnist = tf.keras.datasets.mnist"
      ],
      "metadata": {
        "id": "HZCyWhMonHmE"
      },
      "execution_count": 9,
      "outputs": []
    },
    {
      "cell_type": "code",
      "source": [
        "(x_train, y_train), (x_test, y_test) = mnist.load_data()"
      ],
      "metadata": {
        "id": "n5Ohfy_dw2TF"
      },
      "execution_count": 10,
      "outputs": []
    },
    {
      "cell_type": "markdown",
      "source": [
        "4-1 가중치 초기화\n",
        "1. he_normal : 활성화 함수가 relu 인 경우 사용\n",
        "2. glorot_uniform : 활성화 함수가  sigmoid, Tanh 인 경우 사용\n"
      ],
      "metadata": {
        "id": "X1eHAwSXniHO"
      }
    },
    {
      "cell_type": "code",
      "source": [],
      "metadata": {
        "id": "lAeFx0Sxp8hQ"
      },
      "execution_count": null,
      "outputs": []
    },
    {
      "cell_type": "code",
      "source": [
        "##kernel_initializer = 'uniform'\n",
        "dense = tf.keras.layers.Dense(256,kernel_initializer = 'uniform', activation = 'relu')"
      ],
      "metadata": {
        "id": "mvwfsnbtnPna"
      },
      "execution_count": 11,
      "outputs": []
    },
    {
      "cell_type": "code",
      "source": [
        "##kernel_initializer = 'normal'\n",
        "dense = tf.keras.layers.Dense(256,kernel_initializer = 'normal', activation = 'relu')"
      ],
      "metadata": {
        "id": "89-gopEAoDCI"
      },
      "execution_count": 12,
      "outputs": []
    },
    {
      "cell_type": "code",
      "source": [
        "##kernel_initializer = 'he_normal'\n",
        "dense = tf.keras.layers.Dense(256,kernel_initializer = 'he_normal', activation = 'relu')"
      ],
      "metadata": {
        "id": "1Ea-2Ty_oMbN"
      },
      "execution_count": 21,
      "outputs": []
    },
    {
      "cell_type": "code",
      "source": [
        "##데이커 시각화\n",
        "fig,axes = plt.subplots(3, 5)\n",
        "fig.set_size_inches(8, 5)\n",
        "\n",
        "for i in range(15):\n",
        "  ax = axes[i//5, i%5]\n",
        "  ax.imshow(x_train[i], cmap = 'gray')\n",
        "  ax.axis('off')\n",
        "  ax.set_title(str(y_train[i]))\n",
        "  \n",
        "plt.tight_layout()\n",
        "plt.show()\n"
      ],
      "metadata": {
        "colab": {
          "base_uri": "https://localhost:8080/",
          "height": 510
        },
        "id": "vuj7ZmBVxPQV",
        "outputId": "14ec70aa-9643-4f63-e89b-8ec433c22909"
      },
      "execution_count": 40,
      "outputs": [
        {
          "output_type": "display_data",
          "data": {
            "text/plain": [
              "<Figure size 800x500 with 15 Axes>"
            ],
            "image/png": "[encoded data removed]"
          },
          "metadata": {}
        }
      ]
    },
    {
      "cell_type": "code",
      "source": [],
      "metadata": {
        "id": "pnecxB5ZzjPW"
      },
      "execution_count": null,
      "outputs": []
    },
    {
      "cell_type": "markdown",
      "source": [
        "3. 차원축소"
      ],
      "metadata": {
        "id": "mhWItUCUz8Xi"
      }
    },
    {
      "cell_type": "code",
      "source": [
        "##차원축소\n",
        "x_train.reshape(60000, -1).shape"
      ],
      "metadata": {
        "colab": {
          "base_uri": "https://localhost:8080/"
        },
        "id": "-VQfP09k0RnT",
        "outputId": "0a36dc1f-89a5-434e-d53f-a326139b1228"
      },
      "execution_count": 41,
      "outputs": [
        {
          "output_type": "execute_result",
          "data": {
            "text/plain": [
              "(60000, 784)"
            ]
          },
          "metadata": {},
          "execution_count": 41
        }
      ]
    },
    {
      "cell_type": "code",
      "source": [
        "tf.keras.layers.Flatten()(x_train).shape"
      ],
      "metadata": {
        "colab": {
          "base_uri": "https://localhost:8080/"
        },
        "id": "DPHv7ch_0etl",
        "outputId": "b0a82136-7dc9-45d3-c70b-33bd8eebcd03"
      },
      "execution_count": 42,
      "outputs": [
        {
          "output_type": "execute_result",
          "data": {
            "text/plain": [
              "TensorShape([60000, 784])"
            ]
          },
          "metadata": {},
          "execution_count": 42
        }
      ]
    },
    {
      "cell_type": "markdown",
      "source": [
        "활성화 함수:출력 함수"
      ],
      "metadata": {
        "id": "SslvVC6t0s7n"
      }
    },
    {
      "cell_type": "code",
      "source": [
        "tf.keras.layers.Dense(128, activation='relu')"
      ],
      "metadata": {
        "id": "r04EKKZ90sIm",
        "colab": {
          "base_uri": "https://localhost:8080/"
        },
        "outputId": "bb090ad8-606d-4a35-87eb-fca7b4324ddb"
      },
      "execution_count": 43,
      "outputs": [
        {
          "output_type": "execute_result",
          "data": {
            "text/plain": [
              "<keras.layers.core.dense.Dense at 0x7f8eec960040>"
            ]
          },
          "metadata": {},
          "execution_count": 43
        }
      ]
    },
    {
      "cell_type": "markdown",
      "source": [
        "입력과 출력"
      ],
      "metadata": {
        "id": "IewCMC8w05K3"
      }
    },
    {
      "cell_type": "code",
      "source": [
        "##출력층이 1인 경우\n",
        "tf.keras.layers.Dense(1, activation=)"
      ],
      "metadata": {
        "id": "yiKx8XjY0653"
      },
      "execution_count": null,
      "outputs": []
    },
    {
      "cell_type": "code",
      "source": [
        "##출력층 노드 = 2개 이상인 경우, softmax\n",
        "tf.keras.layers.Dense(10,activation='sigmoid')"
      ],
      "metadata": {
        "colab": {
          "base_uri": "https://localhost:8080/"
        },
        "id": "BdvZ62QOvg_F",
        "outputId": "522c10b7-765b-4f1e-9eb4-4691ce48720f"
      },
      "execution_count": 44,
      "outputs": [
        {
          "output_type": "execute_result",
          "data": {
            "text/plain": [
              "<keras.layers.core.dense.Dense at 0x7f8eec958a00>"
            ]
          },
          "metadata": {},
          "execution_count": 44
        }
      ]
    },
    {
      "cell_type": "markdown",
      "source": [
        "손실함수"
      ],
      "metadata": {
        "id": "3GpiQR8X1MSP"
      }
    },
    {
      "cell_type": "code",
      "source": [
        "##출력 노드가 1개, sigmoid활성화 함수를 적용한 경우\n",
        "model.compile(loss='binary_crossentropy')"
      ],
      "metadata": {
        "id": "DCPKJIVp1PJf"
      },
      "execution_count": 45,
      "outputs": []
    },
    {
      "cell_type": "code",
      "source": [
        "##출력 노드가 2개이상 softmax활성화 함수를 적용한 경우\n",
        "##y가 원 핫 벡터가 아닌 경우\n",
        "model.compile(loss='sparse_categorical_crossentropy')\n",
        "     "
      ],
      "metadata": {
        "id": "-UTCURB0vpzF"
      },
      "execution_count": 46,
      "outputs": []
    },
    {
      "cell_type": "code",
      "source": [
        "##출력 노드가 2개 이상, "
      ],
      "metadata": {
        "id": "F4ODfLdX1pV1"
      },
      "execution_count": null,
      "outputs": []
    },
    {
      "cell_type": "markdown",
      "source": [
        "옵티마이저: 손실을 낮추기 위해 신경망의 가중치와 학습률과 같은 신경망의 속성을 변경하는 데 최적화 방법"
      ],
      "metadata": {
        "id": "J8G5a3d31uuN"
      }
    },
    {
      "cell_type": "code",
      "source": [
        "#클래스 인스턴스로 지정\n",
        "adam=tf.keras.optimizers.Adam(lr=0.001)\n",
        "model.compile(optimizer='adam',loss = 'sparse_categorical_crossentropy',metrics=['accuracy'])"
      ],
      "metadata": {
        "colab": {
          "base_uri": "https://localhost:8080/"
        },
        "id": "a9nCN6dS18pQ",
        "outputId": "7c8dfa59-9de4-4a9e-bda4-9ae1125bee9d"
      },
      "execution_count": 48,
      "outputs": [
        {
          "output_type": "stream",
          "name": "stderr",
          "text": [
            "WARNING:absl:`lr` is deprecated in Keras optimizer, please use `learning_rate` or use the legacy optimizer, e.g.,tf.keras.optimizers.legacy.Adam.\n"
          ]
        }
      ]
    },
    {
      "cell_type": "code",
      "source": [],
      "metadata": {
        "id": "RYgkTJ4xv1T-"
      },
      "execution_count": null,
      "outputs": []
    },
    {
      "cell_type": "markdown",
      "source": [
        "평가지표"
      ],
      "metadata": {
        "id": "H9joWRnZ2azu"
      }
    },
    {
      "cell_type": "code",
      "source": [
        "# 클래스 인스턴스로 지정\n",
        "acc = tf.keras"
      ],
      "metadata": {
        "id": "8d-X9n2d2dpu"
      },
      "execution_count": null,
      "outputs": []
    },
    {
      "cell_type": "markdown",
      "source": [
        "모델생성"
      ],
      "metadata": {
        "id": "F_XELCPB2xGf"
      }
    },
    {
      "cell_type": "code",
      "source": [
        "##가중치를 적용하지 않은 경우\n",
        "model = tf.keras.Sequential([tf.keras.layers.Flatten(input_shape = (28,28)),\n",
        "                             tf.keras.layers.Dense(64, activation = 'relu'),\n",
        "                             tf.keras.layers.Dense(32, activation = 'relu'),\n",
        "                             tf.keras.layers.Dense(10, activation = 'softmax')\n",
        "])\n",
        "model.summary()"
      ],
      "metadata": {
        "id": "0K8tPJu62zQc",
        "colab": {
          "base_uri": "https://localhost:8080/"
        },
        "outputId": "04cf0052-ba21-4daf-8719-0e7a97a492fe"
      },
      "execution_count": 17,
      "outputs": [
        {
          "output_type": "stream",
          "name": "stdout",
          "text": [
            "Model: \"sequential_2\"\n",
            "_________________________________________________________________\n",
            " Layer (type)                Output Shape              Param #   \n",
            "=================================================================\n",
            " flatten_2 (Flatten)         (None, 784)               0         \n",
            "                                                                 \n",
            " dense_16 (Dense)            (None, 64)                50240     \n",
            "                                                                 \n",
            " dense_17 (Dense)            (None, 32)                2080      \n",
            "                                                                 \n",
            " dense_18 (Dense)            (None, 10)                330       \n",
            "                                                                 \n",
            "=================================================================\n",
            "Total params: 52,650\n",
            "Trainable params: 52,650\n",
            "Non-trainable params: 0\n",
            "_________________________________________________________________\n"
          ]
        }
      ]
    },
    {
      "cell_type": "code",
      "source": [
        "model.compile(optimizer = 'adam', loss = 'sparse_categorical_crossentropy', metrics = ['accuracy'])\n",
        "history = model.fit(x_train,y_train, validation_data = (x_test, y_test), epochs = 10)"
      ],
      "metadata": {
        "colab": {
          "base_uri": "https://localhost:8080/"
        },
        "id": "PvyiGB13qgaF",
        "outputId": "d5b71325-6c16-42f3-ab76-fe4c9c463803"
      },
      "execution_count": 20,
      "outputs": [
        {
          "output_type": "stream",
          "name": "stdout",
          "text": [
            "Epoch 1/10\n",
            "1875/1875 [==============================] - 9s 4ms/step - loss: 1.4067 - accuracy: 0.7573 - val_loss: 0.4713 - val_accuracy: 0.8743\n",
            "Epoch 2/10\n",
            "1875/1875 [==============================] - 8s 4ms/step - loss: 0.3659 - accuracy: 0.9050 - val_loss: 0.3353 - val_accuracy: 0.9239\n",
            "Epoch 3/10\n",
            "1875/1875 [==============================] - 6s 3ms/step - loss: 0.2513 - accuracy: 0.9326 - val_loss: 0.2376 - val_accuracy: 0.9397\n",
            "Epoch 4/10\n",
            "1875/1875 [==============================] - 6s 3ms/step - loss: 0.1907 - accuracy: 0.9481 - val_loss: 0.2364 - val_accuracy: 0.9392\n",
            "Epoch 5/10\n",
            "1875/1875 [==============================] - 6s 3ms/step - loss: 0.1588 - accuracy: 0.9558 - val_loss: 0.1837 - val_accuracy: 0.9517\n",
            "Epoch 6/10\n",
            "1875/1875 [==============================] - 7s 4ms/step - loss: 0.1415 - accuracy: 0.9603 - val_loss: 0.1596 - val_accuracy: 0.9579\n",
            "Epoch 7/10\n",
            "1875/1875 [==============================] - 7s 4ms/step - loss: 0.1200 - accuracy: 0.9661 - val_loss: 0.1763 - val_accuracy: 0.9555\n",
            "Epoch 8/10\n",
            "1875/1875 [==============================] - 7s 4ms/step - loss: 0.1173 - accuracy: 0.9671 - val_loss: 0.1653 - val_accuracy: 0.9556\n",
            "Epoch 9/10\n",
            "1875/1875 [==============================] - 5s 3ms/step - loss: 0.1049 - accuracy: 0.9706 - val_loss: 0.1484 - val_accuracy: 0.9649\n",
            "Epoch 10/10\n",
            "1875/1875 [==============================] - 6s 3ms/step - loss: 0.0982 - accuracy: 0.9733 - val_loss: 0.1369 - val_accuracy: 0.9657\n"
          ]
        }
      ]
    },
    {
      "cell_type": "code",
      "source": [
        "\n",
        "adam = tf.keras.optimizers.Adam(lr = 0.001)\n",
        "acc =  tf.keras.metrics.SparseCategoricalAccuracy()\n",
        "model.compile(optimizer = adam, loss = 'sparse_categorical_crossentropy', metrics = [acc])"
      ],
      "metadata": {
        "colab": {
          "base_uri": "https://localhost:8080/"
        },
        "id": "spqHS9mr3-RU",
        "outputId": "66b35b77-f375-4958-ab5b-be12a8973fa6"
      },
      "execution_count": 26,
      "outputs": [
        {
          "output_type": "stream",
          "name": "stderr",
          "text": [
            "WARNING:absl:`lr` is deprecated in Keras optimizer, please use `learning_rate` or use the legacy optimizer, e.g.,tf.keras.optimizers.legacy.Adam.\n"
          ]
        }
      ]
    },
    {
      "cell_type": "markdown",
      "source": [
        "모델훈련시 훈련데이터"
      ],
      "metadata": {
        "id": "1Y3oAOAa48YM"
      }
    },
    {
      "cell_type": "code",
      "source": [
        "##검증\n",
        "model.evaluate(x_test, y_test)"
      ],
      "metadata": {
        "colab": {
          "base_uri": "https://localhost:8080/"
        },
        "id": "NvCF7oD557uH",
        "outputId": "fdacf814-5472-4ccd-9d14-c64cadf2bcdd"
      },
      "execution_count": 23,
      "outputs": [
        {
          "output_type": "stream",
          "name": "stdout",
          "text": [
            "313/313 [==============================] - 1s 3ms/step - loss: 0.1369 - accuracy: 0.9657\n"
          ]
        },
        {
          "output_type": "execute_result",
          "data": {
            "text/plain": [
              "[0.1369476169347763, 0.9656999707221985]"
            ]
          },
          "metadata": {},
          "execution_count": 23
        }
      ]
    },
    {
      "cell_type": "code",
      "source": [
        "###keral_initializer = 'he_normal'을 적용한 경우\n",
        "model_w_he = tf.keras.Sequential([tf.keras.layers.Flatten(input_shape = (28,28)),\n",
        "                             tf.keras.layers.Dense(64, kernel_initializer = 'he_normal',activation = 'relu'),\n",
        "                             tf.keras.layers.Dense(32, activation = 'relu'),\n",
        "                             tf.keras.layers.Dense(10, activation = 'softmax')\n",
        "])\n",
        "model_w_he.summary()"
      ],
      "metadata": {
        "id": "9a_StLo46GoT",
        "colab": {
          "base_uri": "https://localhost:8080/"
        },
        "outputId": "d0e470b3-3985-4bae-9c58-39bb8620c841"
      },
      "execution_count": 25,
      "outputs": [
        {
          "output_type": "stream",
          "name": "stdout",
          "text": [
            "Model: \"sequential_4\"\n",
            "_________________________________________________________________\n",
            " Layer (type)                Output Shape              Param #   \n",
            "=================================================================\n",
            " flatten_4 (Flatten)         (None, 784)               0         \n",
            "                                                                 \n",
            " dense_23 (Dense)            (None, 64)                50240     \n",
            "                                                                 \n",
            " dense_24 (Dense)            (None, 32)                2080      \n",
            "                                                                 \n",
            " dense_25 (Dense)            (None, 10)                330       \n",
            "                                                                 \n",
            "=================================================================\n",
            "Total params: 52,650\n",
            "Trainable params: 52,650\n",
            "Non-trainable params: 0\n",
            "_________________________________________________________________\n"
          ]
        }
      ]
    },
    {
      "cell_type": "code",
      "source": [
        "model_w_he.compile(optimizer='adam',loss = 'sparse_categorical_crossentropy', metrics=['accuracy'])\n",
        "history_w_he = model_w_he.fit(x_train,y_train, validation_data = (x_test, y_test), epochs = 10)"
      ],
      "metadata": {
        "colab": {
          "base_uri": "https://localhost:8080/"
        },
        "id": "NQZUkDAjsOsq",
        "outputId": "fb2186aa-d14d-4c18-cc2f-66027e5a545e"
      },
      "execution_count": 27,
      "outputs": [
        {
          "output_type": "stream",
          "name": "stdout",
          "text": [
            "Epoch 1/10\n",
            "1875/1875 [==============================] - 8s 3ms/step - loss: 1.5278 - accuracy: 0.7799 - val_loss: 0.4509 - val_accuracy: 0.8903\n",
            "Epoch 2/10\n",
            "1875/1875 [==============================] - 6s 3ms/step - loss: 0.3628 - accuracy: 0.9084 - val_loss: 0.2825 - val_accuracy: 0.9242\n",
            "Epoch 3/10\n",
            "1875/1875 [==============================] - 6s 3ms/step - loss: 0.2349 - accuracy: 0.9368 - val_loss: 0.2219 - val_accuracy: 0.9398\n",
            "Epoch 4/10\n",
            "1875/1875 [==============================] - 7s 3ms/step - loss: 0.1914 - accuracy: 0.9483 - val_loss: 0.1908 - val_accuracy: 0.9491\n",
            "Epoch 5/10\n",
            "1875/1875 [==============================] - 8s 4ms/step - loss: 0.1603 - accuracy: 0.9556 - val_loss: 0.1871 - val_accuracy: 0.9494\n",
            "Epoch 6/10\n",
            "1875/1875 [==============================] - 10s 5ms/step - loss: 0.1463 - accuracy: 0.9589 - val_loss: 0.1943 - val_accuracy: 0.9491\n",
            "Epoch 7/10\n",
            "1875/1875 [==============================] - 5s 3ms/step - loss: 0.1294 - accuracy: 0.9649 - val_loss: 0.1609 - val_accuracy: 0.9602\n",
            "Epoch 8/10\n",
            "1875/1875 [==============================] - 7s 3ms/step - loss: 0.1191 - accuracy: 0.9666 - val_loss: 0.1638 - val_accuracy: 0.9627\n",
            "Epoch 9/10\n",
            "1875/1875 [==============================] - 5s 3ms/step - loss: 0.1115 - accuracy: 0.9701 - val_loss: 0.1553 - val_accuracy: 0.9613\n",
            "Epoch 10/10\n",
            "1875/1875 [==============================] - 6s 3ms/step - loss: 0.1023 - accuracy: 0.9727 - val_loss: 0.1498 - val_accuracy: 0.9609\n"
          ]
        }
      ]
    },
    {
      "cell_type": "code",
      "source": [
        "##두 모델 비교 시각화\n",
        "plt.figure(figsize = (5,3))\n",
        "plt.plot(np.arange(1,11), history.history['val_loss'], color = 'navy', label = 'None')\n",
        "plt.plot(np.arange(1,11), history_w_he.history['val_loss'], color = 'tomato', label = 'He Initialization')\n",
        "plt.title(\"Losses\", fontsize = 20)\n",
        "plt.xlabel('epochs')\n",
        "plt.ylabel(\"Losses\")\n",
        "plt.legend()\n",
        "plt.show"
      ],
      "metadata": {
        "colab": {
          "base_uri": "https://localhost:8080/",
          "height": 360
        },
        "id": "GShN3ubpskpJ",
        "outputId": "c69a27c2-0253-4ab8-d90c-b2a6659a7b77"
      },
      "execution_count": 28,
      "outputs": [
        {
          "output_type": "execute_result",
          "data": {
            "text/plain": [
              "<function matplotlib.pyplot.show(close=None, block=None)>"
            ]
          },
          "metadata": {},
          "execution_count": 28
        },
        {
          "output_type": "display_data",
          "data": {
            "text/plain": [
              "<Figure size 500x300 with 1 Axes>"
            ],
            "image/png": "[encoded data removed]"
          },
          "metadata": {}
        }
      ]
    },
    {
      "cell_type": "code",
      "source": [
        "###keral_initializer = 'glorot_normal'을 적용한 경우\n",
        "model_w_gl = tf.keras.Sequential([tf.keras.layers.Flatten(input_shape = (28,28)),\n",
        "                             tf.keras.layers.Dense(64, kernel_initializer = 'glorot_normal',activation = 'sigmoid'),\n",
        "                             tf.keras.layers.Dense(32, activation = 'sigmoid'),\n",
        "                             tf.keras.layers.Dense(10, activation = 'softmax')\n",
        "])\n",
        "model_w_gl.summary()"
      ],
      "metadata": {
        "colab": {
          "base_uri": "https://localhost:8080/"
        },
        "id": "HMyFekhVs_BA",
        "outputId": "9259dd29-a3ad-4519-d160-5fb44731278c"
      },
      "execution_count": 29,
      "outputs": [
        {
          "output_type": "stream",
          "name": "stdout",
          "text": [
            "Model: \"sequential_5\"\n",
            "_________________________________________________________________\n",
            " Layer (type)                Output Shape              Param #   \n",
            "=================================================================\n",
            " flatten_5 (Flatten)         (None, 784)               0         \n",
            "                                                                 \n",
            " dense_26 (Dense)            (None, 64)                50240     \n",
            "                                                                 \n",
            " dense_27 (Dense)            (None, 32)                2080      \n",
            "                                                                 \n",
            " dense_28 (Dense)            (None, 10)                330       \n",
            "                                                                 \n",
            "=================================================================\n",
            "Total params: 52,650\n",
            "Trainable params: 52,650\n",
            "Non-trainable params: 0\n",
            "_________________________________________________________________\n"
          ]
        }
      ]
    },
    {
      "cell_type": "code",
      "source": [
        "model_w_gl.compile(optimizer='adam',loss = 'sparse_categorical_crossentropy',metrics=['accuracy'])\n",
        "history_w_gl = model_w_gl.fit(x_train,y_train, validation_data = (x_test, y_test), epochs = 10)\n",
        "     "
      ],
      "metadata": {
        "colab": {
          "base_uri": "https://localhost:8080/"
        },
        "id": "r7cSJ1yktAO8",
        "outputId": "d7dbc419-f5eb-43ab-b44e-5b7ad786ba7a"
      },
      "execution_count": 30,
      "outputs": [
        {
          "output_type": "stream",
          "name": "stdout",
          "text": [
            "Epoch 1/10\n",
            "1875/1875 [==============================] - 11s 5ms/step - loss: 0.7716 - accuracy: 0.8109 - val_loss: 0.4385 - val_accuracy: 0.8768\n",
            "Epoch 2/10\n",
            "1875/1875 [==============================] - 9s 5ms/step - loss: 0.4132 - accuracy: 0.8773 - val_loss: 0.3815 - val_accuracy: 0.8823\n",
            "Epoch 3/10\n",
            "1875/1875 [==============================] - 6s 3ms/step - loss: 0.3683 - accuracy: 0.8888 - val_loss: 0.3525 - val_accuracy: 0.8930\n",
            "Epoch 4/10\n",
            "1875/1875 [==============================] - 7s 4ms/step - loss: 0.3569 - accuracy: 0.8930 - val_loss: 0.3241 - val_accuracy: 0.9031\n",
            "Epoch 5/10\n",
            "1875/1875 [==============================] - 6s 3ms/step - loss: 0.3262 - accuracy: 0.9012 - val_loss: 0.2975 - val_accuracy: 0.9071\n",
            "Epoch 6/10\n",
            "1875/1875 [==============================] - 6s 3ms/step - loss: 0.3193 - accuracy: 0.9020 - val_loss: 0.2914 - val_accuracy: 0.9122\n",
            "Epoch 7/10\n",
            "1875/1875 [==============================] - 5s 3ms/step - loss: 0.2961 - accuracy: 0.9107 - val_loss: 0.2857 - val_accuracy: 0.9123\n",
            "Epoch 8/10\n",
            "1875/1875 [==============================] - 6s 3ms/step - loss: 0.2875 - accuracy: 0.9127 - val_loss: 0.2674 - val_accuracy: 0.9174\n",
            "Epoch 9/10\n",
            "1875/1875 [==============================] - 5s 3ms/step - loss: 0.2829 - accuracy: 0.9134 - val_loss: 0.2716 - val_accuracy: 0.9186\n",
            "Epoch 10/10\n",
            "1875/1875 [==============================] - 10s 5ms/step - loss: 0.2885 - accuracy: 0.9116 - val_loss: 0.2704 - val_accuracy: 0.9153\n"
          ]
        }
      ]
    },
    {
      "cell_type": "code",
      "source": [
        "##세 모델 비교 시각화\n",
        "plt.figure(figsize = (5,3))\n",
        "plt.plot(np.arange(1,11), history.history['val_loss'], color = 'navy', label = 'None')\n",
        "plt.plot(np.arange(1,11), history_w_he.history['val_loss'], color = 'tomato', label = 'He Initialization')\n",
        "plt.plot(np.arange(1,11), history_w_gl.history['val_loss'], color = 'green', label = 'Xavier Initialization')\n",
        "plt.title(\"Losses\", fontsize = 20)\n",
        "plt.xlabel('epochs')\n",
        "plt.ylabel(\"Losses\")\n",
        "plt.legend()\n",
        "plt.show"
      ],
      "metadata": {
        "colab": {
          "base_uri": "https://localhost:8080/",
          "height": 360
        },
        "id": "vNu2uBjUtSp5",
        "outputId": "67d624bb-590a-4408-fd2a-2be7aae9918b"
      },
      "execution_count": 31,
      "outputs": [
        {
          "output_type": "execute_result",
          "data": {
            "text/plain": [
              "<function matplotlib.pyplot.show(close=None, block=None)>"
            ]
          },
          "metadata": {},
          "execution_count": 31
        },
        {
          "output_type": "display_data",
          "data": {
            "text/plain": [
              "<Figure size 500x300 with 1 Axes>"
            ],
            "image/png": "[encoded data removed]"
          },
          "metadata": {}
        }
      ]
    },
    {
      "cell_type": "markdown",
      "source": [
        "4-2 규제(Regularization)\n",
        "1. L1 : 가중치의 절대값에 0.001을 곱하여 비용 추가, 0.001\n",
        "\n",
        "2. L2 : 가중치의 제곱에 0.001을 곱하여 비용 추가, 0.001 "
      ],
      "metadata": {
        "id": "Xri_L-3rtj1p"
      }
    },
    {
      "cell_type": "code",
      "source": [
        "regularizer2 = tf.keras.regularizers.l2(0.001)\n",
        "L2_model = tf.keras.Sequential([\n",
        "    tf.keras.layers.Flatten(input_shape=(28,28)),\n",
        "    tf.keras.layers.Dense(64,kernel_initializer='normal', kernel_regularizer2 = regularizer2, activation= 'relu')\n",
        "    tf.keras.layers.Dense(32,kernel_initializer='normal', kernel_regularizer2= regularizer2, activation= 'relu')\n",
        "    tf.keras.layers.Dense(10, activation='softmax')\n",
        "])"
      ],
      "metadata": {
        "colab": {
          "base_uri": "https://localhost:8080/",
          "height": 138
        },
        "id": "hhGXLMLmuLFz",
        "outputId": "1c86bd00-6550-4364-ff2e-0d69ca789fd6"
      },
      "execution_count": 57,
      "outputs": [
        {
          "output_type": "error",
          "ename": "SyntaxError",
          "evalue": "ignored",
          "traceback": [
            "\u001b[0;36m  File \u001b[0;32m\"<ipython-input-57-4b38cf145e37>\"\u001b[0;36m, line \u001b[0;32m5\u001b[0m\n\u001b[0;31m    tf.keras.layers.Dense(32,kernel_initializer='normal', kernel_regularizer2= regularizer2, activation= 'relu')\u001b[0m\n\u001b[0m    ^\u001b[0m\n\u001b[0;31mSyntaxError\u001b[0m\u001b[0;31m:\u001b[0m invalid syntax\n"
          ]
        }
      ]
    },
    {
      "cell_type": "code",
      "source": [
        "L2_model.compile(optimizer='adam',loss = 'sparse_categorical_crossentropy',metrics=['accuracy'])\n",
        "L2_model = L2_model.fit(x_train,y_train, validation_data = (x_test, y_test), epochs = 10)"
      ],
      "metadata": {
        "colab": {
          "base_uri": "https://localhost:8080/",
          "height": 194
        },
        "id": "PeWKb-8jvEIq",
        "outputId": "1310ad59-a69b-4dcd-8b09-5e18ffd42fc5"
      },
      "execution_count": 39,
      "outputs": [
        {
          "output_type": "error",
          "ename": "NameError",
          "evalue": "ignored",
          "traceback": [
            "\u001b[0;31m---------------------------------------------------------------------------\u001b[0m",
            "\u001b[0;31mNameError\u001b[0m                                 Traceback (most recent call last)",
            "\u001b[0;32m<ipython-input-39-dff28c25763b>\u001b[0m in \u001b[0;36m<cell line: 1>\u001b[0;34m()\u001b[0m\n\u001b[0;32m----> 1\u001b[0;31m \u001b[0mL2_model\u001b[0m\u001b[0;34m.\u001b[0m\u001b[0mcompile\u001b[0m\u001b[0;34m(\u001b[0m\u001b[0moptimizer\u001b[0m\u001b[0;34m=\u001b[0m\u001b[0;34m'adam'\u001b[0m\u001b[0;34m,\u001b[0m\u001b[0mloss\u001b[0m \u001b[0;34m=\u001b[0m \u001b[0;34m'sparse_categorical_crossentropy'\u001b[0m\u001b[0;34m,\u001b[0m\u001b[0mmetrics\u001b[0m\u001b[0;34m=\u001b[0m\u001b[0;34m[\u001b[0m\u001b[0;34m'accuracy'\u001b[0m\u001b[0;34m]\u001b[0m\u001b[0;34m)\u001b[0m\u001b[0;34m\u001b[0m\u001b[0;34m\u001b[0m\u001b[0m\n\u001b[0m\u001b[1;32m      2\u001b[0m \u001b[0mL2_model\u001b[0m \u001b[0;34m=\u001b[0m \u001b[0mL2_model\u001b[0m\u001b[0;34m.\u001b[0m\u001b[0mfit\u001b[0m\u001b[0;34m(\u001b[0m\u001b[0mx_train\u001b[0m\u001b[0;34m,\u001b[0m\u001b[0my_train\u001b[0m\u001b[0;34m,\u001b[0m \u001b[0mvalidation_data\u001b[0m \u001b[0;34m=\u001b[0m \u001b[0;34m(\u001b[0m\u001b[0mx_test\u001b[0m\u001b[0;34m,\u001b[0m \u001b[0my_test\u001b[0m\u001b[0;34m)\u001b[0m\u001b[0;34m,\u001b[0m \u001b[0mepochs\u001b[0m \u001b[0;34m=\u001b[0m \u001b[0;36m10\u001b[0m\u001b[0;34m)\u001b[0m\u001b[0;34m\u001b[0m\u001b[0;34m\u001b[0m\u001b[0m\n",
            "\u001b[0;31mNameError\u001b[0m: name 'L2_model' is not defined"
          ]
        }
      ]
    },
    {
      "cell_type": "code",
      "source": [
        "predictions = model.predict(x_test)\n",
        "predictions"
      ],
      "metadata": {
        "colab": {
          "base_uri": "https://localhost:8080/"
        },
        "id": "MZJEkrTI6P3v",
        "outputId": "5717f35d-f1d3-4490-ee92-54607bf5432b"
      },
      "execution_count": 68,
      "outputs": [
        {
          "output_type": "stream",
          "name": "stdout",
          "text": [
            "313/313 [==============================] - 1s 2ms/step\n"
          ]
        },
        {
          "output_type": "execute_result",
          "data": {
            "text/plain": [
              "array([[0.0000000e+00, 4.3420964e-06, 2.4145820e-08, ..., 9.9999565e-01,\n",
              "        1.4115648e-16, 1.3025587e-09],\n",
              "       [1.8089965e-17, 2.0227671e-10, 9.9999994e-01, ..., 9.9052995e-11,\n",
              "        2.7863916e-12, 4.6356083e-23],\n",
              "       [1.5083948e-11, 9.9975288e-01, 1.9688610e-05, ..., 7.2235607e-06,\n",
              "        1.3650437e-04, 5.6676612e-07],\n",
              "       ...,\n",
              "       [7.8680600e-09, 1.8454742e-13, 9.6659569e-10, ..., 1.3218149e-09,\n",
              "        9.8970228e-11, 4.8158222e-07],\n",
              "       [1.6044686e-09, 5.6482927e-23, 2.0528232e-21, ..., 9.1592845e-21,\n",
              "        9.2174146e-10, 4.9813135e-15],\n",
              "       [5.9379931e-07, 7.0120342e-13, 3.0604044e-10, ..., 1.0314121e-14,\n",
              "        3.5902173e-07, 5.3574265e-17]], dtype=float32)"
            ]
          },
          "metadata": {},
          "execution_count": 68
        }
      ]
    },
    {
      "cell_type": "code",
      "source": [
        "predictions[0].max()"
      ],
      "metadata": {
        "colab": {
          "base_uri": "https://localhost:8080/"
        },
        "id": "HAE-Yo8a6pZs",
        "outputId": "4e7da3b0-2935-46a1-b59f-7ad15610921a"
      },
      "execution_count": 71,
      "outputs": [
        {
          "output_type": "execute_result",
          "data": {
            "text/plain": [
              "0.99999565"
            ]
          },
          "metadata": {},
          "execution_count": 71
        }
      ]
    },
    {
      "cell_type": "code",
      "source": [
        "predictions = model.predict(x_test)\n",
        "predictions[0]"
      ],
      "metadata": {
        "id": "ZW5uYFQY7i55",
        "colab": {
          "base_uri": "https://localhost:8080/"
        },
        "outputId": "11772dfa-bfcb-4034-82a9-5a2f2d402983"
      },
      "execution_count": 72,
      "outputs": [
        {
          "output_type": "stream",
          "name": "stdout",
          "text": [
            "313/313 [==============================] - 1s 2ms/step\n"
          ]
        },
        {
          "output_type": "execute_result",
          "data": {
            "text/plain": [
              "array([0.0000000e+00, 4.3420964e-06, 2.4145820e-08, 2.2740686e-08,\n",
              "       2.2135813e-09, 4.0702503e-16, 0.0000000e+00, 9.9999565e-01,\n",
              "       1.4115648e-16, 1.3025587e-09], dtype=float32)"
            ]
          },
          "metadata": {},
          "execution_count": 72
        }
      ]
    },
    {
      "cell_type": "code",
      "source": [
        "np.argmax(predictions[0])"
      ],
      "metadata": {
        "colab": {
          "base_uri": "https://localhost:8080/"
        },
        "id": "5B35KBkYwMTv",
        "outputId": "ea9a4eda-4b0c-45d2-a0a4-243aeff76a22"
      },
      "execution_count": 73,
      "outputs": [
        {
          "output_type": "execute_result",
          "data": {
            "text/plain": [
              "7"
            ]
          },
          "metadata": {},
          "execution_count": 73
        }
      ]
    },
    {
      "cell_type": "code",
      "source": [
        "def get_one_result(idx):\n",
        "    img, y_true, y_pred, confidence = x_test[idx], y_test[idx],np.argmax(predictions[idx]), 100*np.max(predictions[idx])\n",
        "    return img,y_true,y_pred,confidence"
      ],
      "metadata": {
        "id": "8CWdDDaD7mBP"
      },
      "execution_count": 74,
      "outputs": []
    },
    {
      "cell_type": "code",
      "source": [
        "fig,axes = plt.subplots(3,5)\n",
        "fig.set_size_inches(12,10)\n",
        "\n",
        "for i in range(15):\n",
        "    ax = axes[i//5, i%5]\n",
        "    img, y_true, y_pred, confidence = get_one_result(i)\n",
        "    ax.imshow(x_train[i], cmap = 'gray')\n",
        "    #x,y축 눈금\n",
        "    ax.set_xticks([])\n",
        "    ax.set_yticks([])\n",
        "    ax.set_title(f'True : {y_true}', fontsize=12)\n",
        "    ax.set_xlabel(f'Prediction : {y_pred}\\nContidence :( {confidence:.2f}%)',fontsize = 10)\n",
        "plt.tight_layout()\n",
        "plt.show()\n"
      ],
      "metadata": {
        "colab": {
          "base_uri": "https://localhost:8080/",
          "height": 966
        },
        "id": "OVlDpms485sD",
        "outputId": "5853296f-1501-4db4-e1f4-70b11165d723"
      },
      "execution_count": 75,
      "outputs": [
        {
          "output_type": "display_data",
          "data": {
            "text/plain": [
              "<Figure size 1200x1000 with 15 Axes>"
            ],
            "image/png": "[encoded data removed]"
          },
          "metadata": {}
        }
      ]
    }
  ]
}
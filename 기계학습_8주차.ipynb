{
  "nbformat": 4,
  "nbformat_minor": 0,
  "metadata": {
    "colab": {
      "private_outputs": true,
      "provenance": [],
      "mount_file_id": "1kavkKeKG4KO9Tzcux_G00nWOCSsfOKle",
      "authorship_tag": "ABX9TyPzg+6VAKXmC/elwGPepIh6",
      "include_colab_link": true
    },
    "kernelspec": {
      "name": "python3",
      "display_name": "Python 3"
    },
    "language_info": {
      "name": "python"
    }
  },
  "cells": [
    {
      "cell_type": "markdown",
      "metadata": {
        "id": "view-in-github",
        "colab_type": "text"
      },
      "source": [
        "<a href=\"https://colab.research.google.com/github/wndgua0468/machine_learning/blob/main/%EA%B8%B0%EA%B3%84%ED%95%99%EC%8A%B5_8%EC%A3%BC%EC%B0%A8.ipynb\" target=\"_parent\"><img src=\"https://colab.research.google.com/assets/colab-badge.svg\" alt=\"Open In Colab\"/></a>"
      ]
    },
    {
      "cell_type": "code",
      "execution_count": null,
      "metadata": {
        "id": "SuOjfb9eZ5_k"
      },
      "outputs": [],
      "source": [
        "import tensorflow as tf\n",
        "import matplotlib.pyplot as plt\n",
        "import tensorflow_hub as tfhub"
      ]
    },
    {
      "cell_type": "code",
      "source": [
        "from google.colab import drive\n",
        "drive.mount('/content/drive')"
      ],
      "metadata": {
        "id": "hjyd318bIBC8"
      },
      "execution_count": null,
      "outputs": []
    },
    {
      "cell_type": "code",
      "source": [
        "mnist = tf.keras.datasets.mnist\n",
        "(x_train, y_train), (x_valid, y_valid) = mnist.load_data()\n",
        "\n",
        "print(x_train.shape, y_train.shape)\n",
        "print(x_valid.shape, y_valid.shape)"
      ],
      "metadata": {
        "id": "wvAP-aeSAvkm"
      },
      "execution_count": null,
      "outputs": []
    },
    {
      "cell_type": "code",
      "source": [
        "import matplotlib.pylab as plt\n",
        "\n",
        "def plot_image(data, idx):\n",
        "    plt.figure(figsize=(5, 5))\n",
        "    plt.imshow(data[idx], cmap=\"gray\")\n",
        "    plt.axis(\"off\")\n",
        "    plt.show()\n",
        "\n",
        "plot_image(x_train, 0)"
      ],
      "metadata": {
        "id": "D1g3_4UvA1-z"
      },
      "execution_count": null,
      "outputs": []
    },
    {
      "cell_type": "code",
      "source": [
        "print(x_train.min(), x_train.max())\n",
        "print(x_valid.min(), x_valid.max())"
      ],
      "metadata": {
        "id": "MnpdY2ltA6Xk"
      },
      "execution_count": null,
      "outputs": []
    },
    {
      "cell_type": "code",
      "source": [
        "x_train = x_train / 255.0\n",
        "x_valid = x_valid / 255.0\n",
        "\n",
        "print(x_train.min(), x_train.max())\n",
        "print(x_valid.min(), x_valid.max())"
      ],
      "metadata": {
        "id": "T7MsgiOdBvtT"
      },
      "execution_count": null,
      "outputs": []
    },
    {
      "cell_type": "code",
      "source": [
        "print(x_train.shape, x_valid.shape)\n",
        "\n",
        "x_train_in = x_train[..., tf.newaxis]\n",
        "x_valid_in = x_valid[..., tf.newaxis]\n",
        "\n",
        "print(x_train_in.shape, x_valid_in.shape)"
      ],
      "metadata": {
        "id": "AS12Uyb9Bzzz"
      },
      "execution_count": null,
      "outputs": []
    },
    {
      "cell_type": "code",
      "source": [
        "model = tf.keras.Sequential([\n",
        "    # Convolution 적용 (32 filters)\n",
        "    tf.keras.layers.Conv2D(32, (3, 3), activation='relu', \n",
        "                           input_shape=(28, 28, 1), name='conv'),\n",
        "    # Max Pooling 적용\n",
        "    tf.keras.layers.MaxPooling2D((2, 2), name='pool'),\n",
        "    # Classifier 출력층 \n",
        "    tf.keras.layers.Flatten(),\n",
        "    tf.keras.layers.Dense(10, activation='softmax'),\n",
        "])"
      ],
      "metadata": {
        "id": "p1oXX2s46KdA"
      },
      "execution_count": null,
      "outputs": []
    },
    {
      "cell_type": "code",
      "source": [
        "# 모델 컴파일\n",
        "model.compile(optimizer='adam', loss='sparse_categorical_crossentropy', metrics=['accuracy'])\n",
        "# 모델 훈련\n",
        "history = model.fit(x_train_in, y_train, \n",
        "                    validation_data=(x_valid_in, y_valid), \n",
        "                    epochs=10)\n"
      ],
      "metadata": {
        "id": "aB4O7OAy9p6j"
      },
      "execution_count": null,
      "outputs": []
    },
    {
      "cell_type": "code",
      "source": [
        "model.evaluate(x_train_in, y_train)"
      ],
      "metadata": {
        "id": "FlWQDf5oBK_7"
      },
      "execution_count": null,
      "outputs": []
    },
    {
      "cell_type": "code",
      "source": [
        "# 모델 구조 \n",
        "model.summary()"
      ],
      "metadata": {
        "id": "4e-mQe729z59"
      },
      "execution_count": null,
      "outputs": []
    },
    {
      "cell_type": "code",
      "source": [
        "#각 층에 대한 정보\n",
        "model.layers"
      ],
      "metadata": {
        "id": "H5b8OW4a4iPG"
      },
      "execution_count": null,
      "outputs": []
    },
    {
      "cell_type": "code",
      "source": [
        "#첫번째 레이어 가중치치\n",
        "model.layers[0].weights"
      ],
      "metadata": {
        "id": "WOeQBApj5B1X"
      },
      "execution_count": null,
      "outputs": []
    },
    {
      "cell_type": "code",
      "source": [
        "##첫번째 레이어의 커널 가중치\n",
        "model.layers[0].kernel"
      ],
      "metadata": {
        "id": "XBgpKUk292Az"
      },
      "execution_count": null,
      "outputs": []
    },
    {
      "cell_type": "code",
      "source": [
        "model.layers[0].bias"
      ],
      "metadata": {
        "id": "7JOIhhoq-poe"
      },
      "execution_count": null,
      "outputs": []
    },
    {
      "cell_type": "code",
      "source": [
        "##Conv2D 레이어 이름으로 소환하기\n",
        "model.get_layer('conv')"
      ],
      "metadata": {
        "id": "AzE8ZXaV-u9O"
      },
      "execution_count": null,
      "outputs": []
    },
    {
      "cell_type": "code",
      "source": [
        "##Conv2D와 Pooling 레이어의 output 출력\n",
        "##모델 만들기 : tf.keras.Model\n",
        "##모델 예측 : 모델명.predict()\n",
        "activator = tf.keras.Model(inputs=model.input, \n",
        "                           outputs=[layer.output for layer in model.layers[:2]] ) "
      ],
      "metadata": {
        "id": "ANRTvpuH_Xdf"
      },
      "execution_count": null,
      "outputs": []
    },
    {
      "cell_type": "code",
      "source": [
        "##입력데이터 첫번째 5 에 대해 출력해보자\n",
        "activations = activator.predict(x_train_in[0][tf.newaxis, ...]) \n",
        "\n",
        "len(activations)\n",
        "##Conv2D층과 Pooling층의 output 이므로 2 라는 결과 "
      ],
      "metadata": {
        "id": "oWw3BJAuAUJ8"
      },
      "execution_count": null,
      "outputs": []
    },
    {
      "cell_type": "code",
      "source": [
        "##activations[0]\n",
        "conv = activations[0]\n",
        "conv.shape"
      ],
      "metadata": {
        "id": "yB0cwZrYDzPE"
      },
      "execution_count": null,
      "outputs": []
    },
    {
      "cell_type": "code",
      "source": [
        "##'5'의 첫번쨰 Conv2D를 통과한 32개 kernel별 특성맵 시각화\n",
        "# Convolution 시각화\n",
        "fig, axes = plt.subplots(4, 8)\n",
        "fig.set_size_inches(10, 5)\n",
        "\n",
        "for i in range(32):\n",
        "    axes[i//8, i%8].matshow(conv[0, :, :, i], cmap='viridis')\n",
        "    axes[i//8, i%8].set_title('kernel %s'%str(i), fontsize=10)\n",
        "    plt.setp( axes[i//8, i%8].get_xticklabels(), visible=False)\n",
        "    plt.setp( axes[i//8, i%8].get_yticklabels(), visible=False)\n",
        "\n",
        "plt.tight_layout()\n",
        "plt.show()"
      ],
      "metadata": {
        "id": "L9W1H0fGEcc8"
      },
      "execution_count": null,
      "outputs": []
    },
    {
      "cell_type": "code",
      "source": [
        "##activations[1]\n",
        "pooling =  activations[1]\n",
        "pooling.shape"
      ],
      "metadata": {
        "id": "orPRMGjNFBG9"
      },
      "execution_count": null,
      "outputs": []
    },
    {
      "cell_type": "code",
      "source": [
        "### pooling시각화\n",
        "fig, axes = plt.subplots(4, 8)\n",
        "fig.set_size_inches(10, 5)\n",
        "\n",
        "for i in range(32):\n",
        "    axes[i//8, i%8].matshow(pooling[0, :, :, i], cmap='viridis')\n",
        "    axes[i//8, i%8].set_title('kernel %s'%str(i), fontsize=10)\n",
        "    plt.setp( axes[i//8, i%8].get_xticklabels(), visible=False)\n",
        "    plt.setp( axes[i//8, i%8].get_yticklabels(), visible=False)\n",
        "\n",
        "plt.tight_layout()\n",
        "plt.show()"
      ],
      "metadata": {
        "id": "DV4ulwYrFgjB"
      },
      "execution_count": null,
      "outputs": []
    },
    {
      "cell_type": "code",
      "source": [
        "img_path = 'https://upload.wikimedia.org/wikipedia/commons/thumb/c/c4/Gangnam_Seoul_January_2009.jpg/1280px-Gangnam_Seoul_January_2009.jpg'\n",
        "img = tf.keras.utils.get_file(fname='gangnam', origin=img_path)\n",
        "img = tf.io.read_file(img)   # 파일 객체를 string으로 변환\n",
        "img = tf.image.decode_jpeg(img, channels=3)   # 문자(string)를 숫자(unit8) 텐서로 변환\n",
        "img = tf.image.convert_image_dtype(img, tf.float32)   # 0 ~ 1 범위로 정규화 \n",
        "\n",
        "import matplotlib.pylab as plt\n",
        "plt.figure(figsize=(15, 10))\n",
        "plt.imshow(img)"
      ],
      "metadata": {
        "id": "6B7mK_KEINTd"
      },
      "execution_count": null,
      "outputs": []
    },
    {
      "cell_type": "code",
      "source": [
        "img.shape"
      ],
      "metadata": {
        "id": "BTHLDFXlI5MC"
      },
      "execution_count": null,
      "outputs": []
    },
    {
      "cell_type": "code",
      "source": [
        "img_input = tf.expand_dims(img, 0)  # batch_size 추가 4차원 텐서로 입력력\n",
        "img_input.shape"
      ],
      "metadata": {
        "id": "HfolgApBIumH"
      },
      "execution_count": null,
      "outputs": []
    },
    {
      "cell_type": "code",
      "source": [
        "# TensorFlow Hub에서 모델 가져오기 - FasterRCNN+InceptionResNet V2 \n",
        "model = tfhub.load(\"https://tfhub.dev/google/faster_rcnn/openimages_v4/inception_resnet_v2/1\")"
      ],
      "metadata": {
        "id": "8bJncOzqJQWl"
      },
      "execution_count": null,
      "outputs": []
    },
    {
      "cell_type": "code",
      "source": [
        "# 모델 시그니처(용도) 확인 \n",
        "model.signatures.keys()"
      ],
      "metadata": {
        "id": "frz2yRUjIvIc"
      },
      "execution_count": null,
      "outputs": []
    },
    {
      "cell_type": "code",
      "source": [
        "# 객체탐지 모델 생성 \n",
        "obj_detector = model.signatures['default']\n",
        "obj_detector"
      ],
      "metadata": {
        "id": "X64cCb3CJumL"
      },
      "execution_count": null,
      "outputs": []
    },
    {
      "cell_type": "code",
      "source": [
        "# 모델을 이용하여 예측 (추론)\n",
        "result = obj_detector(img_input)  \n",
        "result.keys()"
      ],
      "metadata": {
        "id": "Q6vV0AQaJv7R"
      },
      "execution_count": null,
      "outputs": []
    },
    {
      "cell_type": "code",
      "source": [
        "type(result)"
      ],
      "metadata": {
        "id": "FxN_CeJtKF4E"
      },
      "execution_count": null,
      "outputs": []
    },
    {
      "cell_type": "code",
      "source": [
        "\n",
        "labels = result[\"detection_class_labels\"]\n",
        "names = result[\"detection_class_names\"]"
      ],
      "metadata": {
        "id": "ZUbdmdWOKfRg"
      },
      "execution_count": null,
      "outputs": []
    },
    {
      "cell_type": "code",
      "source": [
        "# 탐지한 객체의 개수 \n",
        "len(result[\"detection_scores\"])"
      ],
      "metadata": {
        "id": "2mNCHw0uJzxB"
      },
      "execution_count": null,
      "outputs": []
    },
    {
      "cell_type": "code",
      "source": [
        "for key,value in result.items():\n",
        "  print(key, value)"
      ],
      "metadata": {
        "id": "xSCjeGGlLBkV"
      },
      "execution_count": null,
      "outputs": []
    },
    {
      "cell_type": "code",
      "source": [
        "len(result[\"detection_scores\"])"
      ],
      "metadata": {
        "id": "4i9XvDnlNnvR"
      },
      "execution_count": null,
      "outputs": []
    },
    {
      "cell_type": "code",
      "source": [
        "boxes = result[\"detection_boxes\"]    # Bounding Box 좌표 예측값\n",
        "labels = result[\"detection_class_entities\"]   # 클래스 값 \n",
        "scores = result[\"detection_scores\"]   # 신뢰도 (confidence)"
      ],
      "metadata": {
        "id": "olRIDqiNLrY5"
      },
      "execution_count": null,
      "outputs": []
    },
    {
      "cell_type": "code",
      "source": [
        "img_height, img_width = img.shape[0], img.shape[1]\n",
        "\n",
        "obj_to_detect = 10\n",
        " \n",
        "plt.figure(figsize=(15, 10))\n",
        "for i in range(min(obj_to_detect, boxes.shape[0])):    \n",
        "    if scores[i] >= 0.2:\n",
        "        (ymax, xmin, ymin, xmax) = (boxes[i][0]*img_height, boxes[i][1]*img_width,\n",
        "                                    boxes[i][2]*img_height, boxes[i][3]*img_width)\n",
        "        print(\"{} : ({},{},{},{})\".format(scores[i],(ymax, xmin, ymin, xmax))"
      ],
      "metadata": {
        "id": "8G2Rh5RjMntc"
      },
      "execution_count": null,
      "outputs": []
    },
    {
      "cell_type": "code",
      "source": [
        "# 객체 탐지 결과를 시각화\n",
        "boxes = result[\"detection_boxes\"]    # Bounding Box 좌표 예측값\n",
        "labels = result[\"detection_class_entities\"]   # 클래스 값 \n",
        "scores = result[\"detection_scores\"]   # 신뢰도 (confidence)\n",
        "\n",
        "# 샘플 이미지 가로 세로 크기 \n",
        "img_height, img_width = img.shape[0], img.shape[1]\n",
        "\n",
        "# 탐지할 최대 객체의 수\n",
        "obj_to_detect = 10\n",
        "\n",
        "# 시각화 \n",
        "plt.figure(figsize=(15, 10))\n",
        "for i in range(min(obj_to_detect, boxes.shape[0])):    \n",
        "    if scores[i] >= 0.2:\n",
        "        (ymax, xmin, ymin, xmax) = (boxes[i][0]*img_height, boxes[i][1]*img_width,\n",
        "                                    boxes[i][2]*img_height, boxes[i][3]*img_width)\n",
        "                                    \n",
        "        plt.imshow(img)\n",
        "        plt.plot([xmin, xmax, xmax, xmin, xmin], [ymin, ymin, ymax, ymax, ymin],\n",
        "                 color='yellow', linewidth=2)\n",
        "        \n",
        "        class_name = labels[i].numpy().decode('utf-8')\n",
        "        infer_score = int(scores[i].numpy()*100)\n",
        "        annotation = \"{}: {}%\".format(class_name, infer_score)\n",
        "        plt.text(xmin+10, ymax+20, annotation,\n",
        "                 color='white', backgroundcolor='blue', fontsize=10)"
      ],
      "metadata": {
        "id": "PHTjBSoBN7sh"
      },
      "execution_count": null,
      "outputs": []
    }
  ]
}
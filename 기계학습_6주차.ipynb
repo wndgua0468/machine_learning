{
  "nbformat": 4,
  "nbformat_minor": 0,
  "metadata": {
    "colab": {
      "private_outputs": true,
      "provenance": [],
      "authorship_tag": "ABX9TyMCoX+gAD+OJBsHXwg5XJXt",
      "include_colab_link": true
    },
    "kernelspec": {
      "name": "python3",
      "display_name": "Python 3"
    },
    "language_info": {
      "name": "python"
    }
  },
  "cells": [
    {
      "cell_type": "markdown",
      "metadata": {
        "id": "view-in-github",
        "colab_type": "text"
      },
      "source": [
        "<a href=\"https://colab.research.google.com/github/wndgua0468/machine_learning/blob/main/%EA%B8%B0%EA%B3%84%ED%95%99%EC%8A%B5_6%EC%A3%BC%EC%B0%A8.ipynb\" target=\"_parent\"><img src=\"https://colab.research.google.com/assets/colab-badge.svg\" alt=\"Open In Colab\"/></a>"
      ]
    },
    {
      "cell_type": "code",
      "source": [
        "import tensorflow as tf\n",
        "import numpy as np\n",
        "import matplotlib.pyplot as plt\n",
        "\n"
      ],
      "metadata": {
        "id": "jFQ6egNXlgI_"
      },
      "execution_count": null,
      "outputs": []
    },
    {
      "cell_type": "code",
      "source": [
        "a = 1\n",
        "b = 2\n",
        "c = tf.math.add(a,b)\n",
        "c"
      ],
      "metadata": {
        "id": "OlbOawbynL2F"
      },
      "execution_count": null,
      "outputs": []
    },
    {
      "cell_type": "code",
      "source": [
        "c.numpy()"
      ],
      "metadata": {
        "id": "fAEf09ljnO2B"
      },
      "execution_count": null,
      "outputs": []
    },
    {
      "cell_type": "code",
      "source": [
        "g = tf.random.Generator.from_seed(2020)\n",
        "x = g.normal(shape=(10,))\n",
        "y = 3*x -2"
      ],
      "metadata": {
        "id": "xYbzOZalmwxt"
      },
      "execution_count": null,
      "outputs": []
    },
    {
      "cell_type": "code",
      "source": [
        "x"
      ],
      "metadata": {
        "id": "ZpKooLNHmz88"
      },
      "execution_count": null,
      "outputs": []
    },
    {
      "cell_type": "code",
      "source": [
        "y"
      ],
      "metadata": {
        "id": "VdA6kpZ3m1Rs"
      },
      "execution_count": null,
      "outputs": []
    },
    {
      "cell_type": "code",
      "source": [
        "##lose함수 정의하기\n",
        "def cal_mse(x, y, a, b):\n",
        "    y_pred = a*x +b\n",
        "    squared_error = (y_pred - y) ** 2\n",
        "    mean_squared_error = tf.reduce_mean(squared_error)\n",
        "\n",
        "    return mean_squared_error"
      ],
      "metadata": {
        "id": "_Lvm8KNgmsto"
      },
      "execution_count": null,
      "outputs": []
    },
    {
      "cell_type": "code",
      "source": [
        "a = tf.Variable(0.0)\n",
        "b = tf.Variable(0.0)\n",
        "\n",
        "EPOCHS = 500\n",
        "\n",
        "for epoch in range(1, EPOCHS+1):\n",
        "    with tf.GradientTape() as tape:\n",
        "        mse = cal_mse(x, y, a, b)\n",
        "    if mse < 0.00001:\n",
        "        break\n",
        "    \n",
        "    grade = tape.gradient(mse, {'a':a, 'b':b})\n",
        "    d_a, d_b = grade['a'], grade['b']\n",
        "    a.assign_sub(d_a * 0.05)## a = a - d_a*0.05(학습률)\n",
        "    b.assign_sub(d_b * 0.05)## b = b - d_b*0.05(학습률)\n",
        "    \n",
        "    \n",
        "\n",
        "    if epoch % 20 == 0:\n",
        "        print(\"EPOCH %d - MSE : %.4f - a: %.2f - b : %.2f\"%(epoch, mse, a, b))"
      ],
      "metadata": {
        "id": "v-5y6gfDne4S"
      },
      "execution_count": null,
      "outputs": []
    },
    {
      "cell_type": "code",
      "source": [
        "y_pred = 3*x-2\n",
        "plt.scatter(x,y)\n",
        "plt.plot(x,y_pred,color = 'r')\n",
        "plt.show()"
      ],
      "metadata": {
        "id": "05hQv9scqwD5"
      },
      "execution_count": null,
      "outputs": []
    },
    {
      "cell_type": "code",
      "execution_count": null,
      "metadata": {
        "id": "dltU2_uifPNK"
      },
      "outputs": [],
      "source": [
        "a = tf.Variable(0.0)\n",
        "b = tf.Variable(0.0)\n",
        "\n",
        "EPOCHS = 500\n",
        "\n",
        "for epoch in range(1, EPOCHS+1):\n",
        "    with tf.GradientTape() as tape:\n",
        "        mse = cal_mse(x,y,a,b)\n",
        "    if mse < 0.000001:\n",
        "        break\n",
        "    \n",
        "    grade = tape.gradient(mse, {'a':a, 'b':b})\n",
        "    d_a, d_b = grade['a'], grade['b']\n",
        "    a.assign_sub(d_a * 0.01)## a = a - d_a*0.05(학습률)\n",
        "    b.assign_sub(d_b * 0.01)## b = b - d_b*0.05(학습률)\n",
        "    #ggrande.append(a.numpy())\n",
        "    #inter.append(b.numpy())\n",
        "\n",
        "    if epoch % 20 == 0:\n",
        "        print(\"EPOCH %d - MSE : %.4f - a: %.2f - b : %.2f\"%(epoch, mse, a, b))"
      ]
    },
    {
      "cell_type": "code",
      "source": [
        "y_pred =2.92*x-1.92\n",
        "plt.scatter(x,y)\n",
        "plt.plot(x,y_pred,color = 'r')\n",
        "plt.show()"
      ],
      "metadata": {
        "id": "J37F-KnQr9kN"
      },
      "execution_count": null,
      "outputs": []
    },
    {
      "cell_type": "code",
      "source": [
        "##1회 d_a, d_b값 구하기\n",
        "d_a_1 = np.sum(x*y)/10*2\n",
        "d_b_1 = "
      ],
      "metadata": {
        "id": "axMJ7p_unzsu"
      },
      "execution_count": null,
      "outputs": []
    },
    {
      "cell_type": "code",
      "source": [],
      "metadata": {
        "id": "ljiVTo5trKd-"
      },
      "execution_count": null,
      "outputs": []
    },
    {
      "cell_type": "code",
      "source": [
        "y_pred = 3.52* x -2.93\n",
        "plt.scatter(x,y)\n",
        "plt.plot(x, y_pred, color = 'r')\n",
        "plt.show()"
      ],
      "metadata": {
        "id": "183-i9Q_oVRy"
      },
      "execution_count": null,
      "outputs": []
    },
    {
      "cell_type": "code",
      "source": [
        "##데이터셋 생성(노이즈 첨가)\n",
        "g = tf.random.Generator.from_seed(2020)\n",
        "x1 = g.normal(shape = (10,))\n",
        "noise_1 = np.random.normal(0.1,size = (10,))\n",
        "y_1 = 3*x - 2 + noise_1"
      ],
      "metadata": {
        "id": "Q4AnuJ_Wo2B5"
      },
      "execution_count": null,
      "outputs": []
    },
    {
      "cell_type": "code",
      "source": [
        "a = tf.Variable(0.0)\n",
        "b = tf.Variable(0.0)\n",
        "\n",
        "EPOCHS = 1000\n",
        "\n",
        "for epoch in range(1, EPOCHS+1):\n",
        "    with tf.GradientTape() as tape:\n",
        "        mse = cal_mse(x1,y,a,b)\n",
        "    if mse < 0.00001:\n",
        "        break\n",
        "    \n",
        "    grade = tape.gradient(mse, {'a':a, 'b':b})\n",
        "    d_a, d_b = grade['a'], grade['b']\n",
        "    a.assign_sub(d_a * 0.05)## a = a - d_a*0.05(학습률)\n",
        "    b.assign_sub(d_b * 0.05)## b = b - d_b*0.05(학습률)\n",
        "\n",
        "    if epoch % 20 == 0:\n",
        "        print(\"EPOCH %d - MSE : %.4f - a: %.2f - b : %.2f\"%(epoch, mse, a, b))"
      ],
      "metadata": {
        "id": "NR-_Zu3tpIBl"
      },
      "execution_count": null,
      "outputs": []
    },
    {
      "cell_type": "code",
      "source": [
        "xx= tf.range(-5,5, 0.1)\n",
        "yy = tf.nn.sigmoid(xx)\n",
        "plt.plot(xx,yy,'r')\n",
        "plt.show()"
      ],
      "metadata": {
        "id": "GVZYlyZIqX26"
      },
      "execution_count": null,
      "outputs": []
    },
    {
      "cell_type": "code",
      "source": [
        "with tf.GradientTape() as tape:\n",
        "  tape.watch(xx)\n",
        "  yy = tf.sigmoid(xx)\n",
        "dy = tape.gradient(yy,xx)\n"
      ],
      "metadata": {
        "id": "TWd2f0FircGT"
      },
      "execution_count": null,
      "outputs": []
    },
    {
      "cell_type": "code",
      "source": [
        "plt.plot(xx,yy,\"r-\")\n",
        "plt.plot(xx,dy,\"b--\")\n",
        "plt.show()"
      ],
      "metadata": {
        "id": "k8YdP1p-rE_6"
      },
      "execution_count": null,
      "outputs": []
    },
    {
      "cell_type": "markdown",
      "source": [
        "경사하강법"
      ],
      "metadata": {
        "id": "ahs--gTyvjEX"
      }
    },
    {
      "cell_type": "code",
      "source": [
        "def make_linear(w=0.5, b=.8, size=50, noise=1.0):\n",
        "  x = np.random.rand(size)\n",
        "  y = w * x +b\n",
        "  noise = np.random.uniform(-abs(noise), abs(noise), size = y.shape)\n",
        "  yy = y + noise \n",
        "  plt.figure(figsize=(7, 5))\n",
        "  plt.plot(x, y, color = 'r', label=f'y = {w}*x + {b}')\n",
        "  plt.scatter(x, yy, label='data')\n",
        "  plt.legend(fontsize=10)\n",
        "  plt.show()\n",
        "  print(f'w: {w}, b: {b}')\n",
        "  return x ,yy\n",
        "x,y = make_linear(w=0.3, b=0.5, size=100, noise=0.01)"
      ],
      "metadata": {
        "id": "MpyAMeoBvlGX"
      },
      "execution_count": null,
      "outputs": []
    },
    {
      "cell_type": "code",
      "source": [
        "x=np.arange(1,6)\n",
        "y1= 3 * x + 2\n",
        "print(x,y1)"
      ],
      "metadata": {
        "id": "_imcJkpBsTDV"
      },
      "execution_count": null,
      "outputs": []
    },
    {
      "cell_type": "code",
      "source": [
        "type(x)"
      ],
      "metadata": {
        "id": "-iAQOvmDsV7J"
      },
      "execution_count": null,
      "outputs": []
    },
    {
      "cell_type": "code",
      "source": [
        "type(y1)"
      ],
      "metadata": {
        "id": "NXn9Xk9psYBN"
      },
      "execution_count": null,
      "outputs": []
    },
    {
      "cell_type": "markdown",
      "source": [
        "단순 선형 회귀 모델 만들기\n",
        "1.데이터 생성\n",
        "2. 단순 선형 회귀 모형만들기\n",
        "3.컴파일\n",
        "4.훈련\n",
        "5.검증\n",
        "6.예측"
      ],
      "metadata": {
        "id": "uVjw20Zs02is"
      }
    },
    {
      "cell_type": "code",
      "source": [
        "model1 = tf.keras.Sequential([\n",
        "    tf.keras.layers.Dense(1,input_shape=[1]),\n",
        "])"
      ],
      "metadata": {
        "id": "CcXbZlXP067N"
      },
      "execution_count": null,
      "outputs": []
    },
    {
      "cell_type": "code",
      "source": [
        "model1.summary()"
      ],
      "metadata": {
        "id": "dgACERkw123S"
      },
      "execution_count": null,
      "outputs": []
    },
    {
      "cell_type": "code",
      "source": [
        "##옵티마이저 : 경사하강법, 손실함수 : 평균제곱오차함수, 평가지표 : 평균절대오차\n",
        "model1.compile(optimizer= 'sgd', loss='mse', metrics=['mse'])"
      ],
      "metadata": {
        "id": "2MRdAt_q1_FW"
      },
      "execution_count": null,
      "outputs": []
    },
    {
      "cell_type": "code",
      "source": [
        "\n",
        "##훈련 :데이터셋 사용, 애포크 지정\n",
        "history1 = model1.fit(x,y1,epochs = 1200)"
      ],
      "metadata": {
        "id": "ojJkUaYr2x5u"
      },
      "execution_count": null,
      "outputs": []
    },
    {
      "cell_type": "code",
      "source": [
        "plt.plot(history1.history['loss'],label='loss')\n",
        "plt.plot(history1.history['mse'],label='mse')\n",
        "plt.xlim(-1,20)\n",
        "plt.title('Loss')\n",
        "plt.legend()\n",
        "plt.show()\n",
        "    "
      ],
      "metadata": {
        "id": "_2AKtKThshQi"
      },
      "execution_count": null,
      "outputs": []
    },
    {
      "cell_type": "code",
      "source": [
        "model1.predict([10])"
      ],
      "metadata": {
        "id": "rDm9xB7vwrpV"
      },
      "execution_count": null,
      "outputs": []
    },
    {
      "cell_type": "code",
      "source": [
        "model1.evaluate(x,y1)"
      ],
      "metadata": {
        "id": "7RfHA42a3cI1"
      },
      "execution_count": null,
      "outputs": []
    },
    {
      "cell_type": "code",
      "source": [],
      "metadata": {
        "id": "whgFYJUS3lwR"
      },
      "execution_count": null,
      "outputs": []
    }
  ]
}
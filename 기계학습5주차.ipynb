{
  "nbformat": 4,
  "nbformat_minor": 0,
  "metadata": {
    "colab": {
      "private_outputs": true,
      "provenance": [],
      "authorship_tag": "ABX9TyM3QaZrdfxmMqXi5ha7bhV1",
      "include_colab_link": true
    },
    "kernelspec": {
      "name": "python3",
      "display_name": "Python 3"
    },
    "language_info": {
      "name": "python"
    }
  },
  "cells": [
    {
      "cell_type": "markdown",
      "metadata": {
        "id": "view-in-github",
        "colab_type": "text"
      },
      "source": [
        "<a href=\"https://colab.research.google.com/github/wndgua0468/machine_learning/blob/main/%EA%B8%B0%EA%B3%84%ED%95%99%EC%8A%B55%EC%A3%BC%EC%B0%A8.ipynb\" target=\"_parent\"><img src=\"https://colab.research.google.com/assets/colab-badge.svg\" alt=\"Open In Colab\"/></a>"
      ]
    },
    {
      "cell_type": "code",
      "execution_count": null,
      "metadata": {
        "id": "Y7U9pF9BdZpJ"
      },
      "outputs": [],
      "source": [
        "import tensorflow as tf\n",
        "import numpy as np\n",
        "import matplotlib.pyplot as plt\n",
        "\n"
      ]
    },
    {
      "cell_type": "code",
      "source": [
        "a = 1\n",
        "b = 2\n",
        "c = tf.math.add(a,b)\n",
        "c"
      ],
      "metadata": {
        "id": "QUG54nOZfaGL"
      },
      "execution_count": null,
      "outputs": []
    },
    {
      "cell_type": "code",
      "source": [
        "c.numpy()"
      ],
      "metadata": {
        "id": "EfOXQuXjfvN6"
      },
      "execution_count": null,
      "outputs": []
    },
    {
      "cell_type": "markdown",
      "source": [
        "스칼라 정의하기\n",
        "1."
      ],
      "metadata": {
        "id": "SNunx5RCf9Gg"
      }
    },
    {
      "cell_type": "code",
      "source": [
        "c1 = tf.constant(1)\n",
        "c2 = tf.constant(2)\n",
        "print(c1, c2)"
      ],
      "metadata": {
        "id": "6gEaUDW6gDQQ"
      },
      "execution_count": null,
      "outputs": []
    },
    {
      "cell_type": "code",
      "source": [
        "f1 = tf.cast(c1,tf.float32)\n",
        "f2 = tf.cast(c2,tf.float32)\n",
        "print(f1,f2)"
      ],
      "metadata": {
        "id": "cyBnQpz_gVPB"
      },
      "execution_count": null,
      "outputs": []
    },
    {
      "cell_type": "markdown",
      "source": [
        "1.add()\n",
        "2.substract()\n",
        "3.multiply()\n",
        "4.divide()\n",
        "5.mode() : 나머지\n",
        "6.flordiv() :몫"
      ],
      "metadata": {
        "id": "9oKGzi3HhT-q"
      }
    },
    {
      "cell_type": "code",
      "source": [
        "##덧셈\n",
        "add = tf.math.add(c1,c2)\n",
        "add.numpy()"
      ],
      "metadata": {
        "id": "RXkzxcuxgrJq"
      },
      "execution_count": null,
      "outputs": []
    },
    {
      "cell_type": "code",
      "source": [
        "##뺼셈\n",
        "sub = tf.math.subtract(c1,c2)\n",
        "sub"
      ],
      "metadata": {
        "id": "En4IZlRrg36C"
      },
      "execution_count": null,
      "outputs": []
    },
    {
      "cell_type": "code",
      "source": [
        "##나머지\n",
        "mode = tf.math.mod(c1,c2)\n",
        "mode"
      ],
      "metadata": {
        "id": "XT8qgvjWh2_w"
      },
      "execution_count": null,
      "outputs": []
    },
    {
      "cell_type": "markdown",
      "source": [],
      "metadata": {
        "id": "U0QF8MSxhvpx"
      }
    },
    {
      "cell_type": "markdown",
      "source": [
        "vecotr\n",
        "1.변수명"
      ],
      "metadata": {
        "id": "AMCd3z1iidpJ"
      }
    },
    {
      "cell_type": "code",
      "source": [
        "py_list = [10,20,30]\n",
        "ten_list = tf.constant(py_list)\n",
        "ten_list"
      ],
      "metadata": {
        "id": "g-9nP0fzilWT"
      },
      "execution_count": null,
      "outputs": []
    },
    {
      "cell_type": "code",
      "source": [
        "ten_list = tf.constant([10,20,30])\n",
        "ten_list"
      ],
      "metadata": {
        "id": "mIL203oji1xZ"
      },
      "execution_count": null,
      "outputs": []
    },
    {
      "cell_type": "code",
      "source": [
        "num_arr = np.array([10,10,10])\n",
        "ten_arr = tf.constant(num_arr)\n",
        "ten_arr"
      ],
      "metadata": {
        "id": "gi9jfrnmi-4h"
      },
      "execution_count": null,
      "outputs": []
    },
    {
      "cell_type": "code",
      "source": [
        "add_n = tf.math.add(ten_list, num_arr)\n",
        "add_n"
      ],
      "metadata": {
        "id": "9HSTL32HjSZx"
      },
      "execution_count": null,
      "outputs": []
    },
    {
      "cell_type": "code",
      "source": [
        "add1 = tf.math.add(ten_list, num_arr)\n",
        "add1"
      ],
      "metadata": {
        "id": "SH2oQKzBkZ3u"
      },
      "execution_count": null,
      "outputs": []
    },
    {
      "cell_type": "code",
      "source": [
        "add2 = ten_list + ten_arr\n",
        "add2"
      ],
      "metadata": {
        "id": "aS3AsfIijrv3"
      },
      "execution_count": null,
      "outputs": []
    },
    {
      "cell_type": "code",
      "source": [
        "A = ten_list + ten_arr\n",
        "S = ten_list - ten_arr\n",
        "M = ten_list * ten_arr\n",
        "D = ten_list / ten_arr\n",
        "Mo = ten_list % ten_arr\n",
        "Fd = ten_list // ten_arr"
      ],
      "metadata": {
        "id": "glvm3nZ7j8v3"
      },
      "execution_count": null,
      "outputs": []
    },
    {
      "cell_type": "markdown",
      "source": [
        "행렬정의하기"
      ],
      "metadata": {
        "id": "tV_tbFmpk8yg"
      }
    },
    {
      "cell_type": "code",
      "source": [
        "l_a = [1,0]\n",
        "l_b = [-1,2]\n",
        "l_c = [1,0]\n"
      ],
      "metadata": {
        "id": "p8W4AbrMlAj4"
      },
      "execution_count": null,
      "outputs": []
    },
    {
      "cell_type": "code",
      "source": [
        "l_a = tf.constant(l_a)\n",
        "l_b = tf.constant(l_b)\n",
        "l_c = tf.constant(l_c)\n",
        "A = tf.stack([l_a,l_b,l_c])\n",
        "A"
      ],
      "metadata": {
        "id": "dYtDSXMjlJmo"
      },
      "execution_count": null,
      "outputs": []
    },
    {
      "cell_type": "code",
      "source": [
        "l_B = [[10,20], [30,40]]\n",
        "l_C = [[10,20],[20,40]]\n",
        "l_E = [[30,10], [10,10]]"
      ],
      "metadata": {
        "id": "eIwkNLjLmAtL"
      },
      "execution_count": null,
      "outputs": []
    },
    {
      "cell_type": "code",
      "source": [
        "B = tf.constant(l_B)\n",
        "C = tf.constant(l_C)\n",
        "E = tf.constant(l_E)\n",
        "B,C,E"
      ],
      "metadata": {
        "id": "lui0HujEmXDp"
      },
      "execution_count": null,
      "outputs": []
    },
    {
      "cell_type": "code",
      "source": [
        "m_BCE = tf.stack([B,C,E])\n",
        "m_BCE"
      ],
      "metadata": {
        "id": "edRqeEGamAse"
      },
      "execution_count": null,
      "outputs": []
    },
    {
      "cell_type": "markdown",
      "source": [
        "고차원 텐서"
      ],
      "metadata": {
        "id": "MAFwBV0fnN4f"
      }
    },
    {
      "cell_type": "code",
      "source": [
        "## 1차원 배열로 3*2*4 정의하기\n",
        "l_c1 = [1,2,3,4]\n",
        "l_c2 = [3,4,2,5]\n",
        "l_c3 = [2,3,4,5]\n",
        "l_c4 = [6,5,7,3]\n",
        "l_c5 = [1,1,1,1]\n",
        "l_c6 = [8,1,0,6]\n"
      ],
      "metadata": {
        "id": "obqFxUO9nQ7u"
      },
      "execution_count": null,
      "outputs": []
    },
    {
      "cell_type": "code",
      "source": [
        "c1 = tf.constant(l_c1)\n",
        "c2 = tf.constant(l_c2)\n",
        "c3 = tf.constant(l_c3)\n",
        "c4 = tf.constant(l_c4)\n",
        "c5 = tf.constant(l_c5)\n",
        "c6 = tf.constant(l_c6)"
      ],
      "metadata": {
        "id": "luSsAyT8rrZn"
      },
      "execution_count": null,
      "outputs": []
    },
    {
      "cell_type": "code",
      "source": [
        "t_A = tf.stack([c1,c2,c3,c4,c5,c6])\n",
        "t_A"
      ],
      "metadata": {
        "id": "6EybT9IAr8M_"
      },
      "execution_count": null,
      "outputs": []
    },
    {
      "cell_type": "code",
      "source": [
        "t_1 = stack[c1, c2]\n",
        "t_2 = stack[c3, c4]\n",
        "t_3 = stack[c5, c6]"
      ],
      "metadata": {
        "id": "qf8rjS8AtO7E"
      },
      "execution_count": null,
      "outputs": []
    },
    {
      "cell_type": "markdown",
      "source": [
        "인덱싱"
      ],
      "metadata": {
        "id": "jkP54z7Ztz1X"
      }
    },
    {
      "cell_type": "code",
      "source": [
        "x = range(1,10)\n",
        "x = list(x)\n",
        "x1 = tf.constant(x)\n",
        "x1"
      ],
      "metadata": {
        "id": "6kBMU54KvHHX"
      },
      "execution_count": null,
      "outputs": []
    },
    {
      "cell_type": "code",
      "source": [
        "x2 = tf.reshape(x1,[3,-1])\n",
        "x2"
      ],
      "metadata": {
        "id": "pYiAR3ZEvggM"
      },
      "execution_count": null,
      "outputs": []
    },
    {
      "cell_type": "code",
      "source": [
        "#1행출력\n",
        "2x2[:1]"
      ],
      "metadata": {
        "id": "SMYlpyvzvV8q"
      },
      "execution_count": null,
      "outputs": []
    },
    {
      "cell_type": "code",
      "source": [
        "r4_t7 = tf.reshape()"
      ],
      "metadata": {
        "id": "LufWptnTwApl"
      },
      "execution_count": null,
      "outputs": []
    },
    {
      "cell_type": "markdown",
      "source": [
        " 자동미분"
      ],
      "metadata": {
        "id": "cU-GGHrWxnz-"
      }
    },
    {
      "cell_type": "code",
      "source": [
        "## y=x^2의 미분값 구하기\n",
        "x = tf.Variable(2.0)\n",
        "\n",
        "with tf.GradientTape() as tape:\n",
        "  y = x ** 2  \n",
        "dy_dx = tape.gradient(y,x)\n",
        "dy_dx.numpy()"
      ],
      "metadata": {
        "id": "rHDHYIjtxp6W"
      },
      "execution_count": null,
      "outputs": []
    },
    {
      "cell_type": "code",
      "source": [
        "##reduce_mean()\n",
        "m2 = tf.constant([[1.,1.],[2.,2.]])\n",
        "m2"
      ],
      "metadata": {
        "id": "LcqSfyc016oY"
      },
      "execution_count": null,
      "outputs": []
    },
    {
      "cell_type": "code",
      "source": [
        "mean2 = tf.reduce_mean(m2)\n",
        "mean2.numpy()"
      ],
      "metadata": {
        "id": "K-cbJUqg7WnE"
      },
      "execution_count": null,
      "outputs": []
    },
    {
      "cell_type": "markdown",
      "source": [
        "데이터셋 생성"
      ],
      "metadata": {
        "id": "9xw03jCC1P--"
      }
    },
    {
      "cell_type": "code",
      "source": [
        "g = tf.random.Generator.from_seed(2020)\n",
        "x = g.normal(shape=(10,))\n",
        "y = 3*x -2"
      ],
      "metadata": {
        "id": "vgHH8nfT1S4P"
      },
      "execution_count": null,
      "outputs": []
    },
    {
      "cell_type": "code",
      "source": [
        "x"
      ],
      "metadata": {
        "id": "27sOazwm8NwV"
      },
      "execution_count": null,
      "outputs": []
    },
    {
      "cell_type": "code",
      "source": [
        "y"
      ],
      "metadata": {
        "id": "Bc9yBF8f8PoT"
      },
      "execution_count": null,
      "outputs": []
    },
    {
      "cell_type": "code",
      "source": [
        "##lose함수 정의하기\n",
        "def cal_mse(x, y, a, b):\n",
        "    y_pred = a*x +b\n",
        "    squared_error = (y_pred - y) ** 2\n",
        "    mean_squared_error = tf.reduce_mean(squared_error)\n",
        "\n",
        "    return mean_squared_error"
      ],
      "metadata": {
        "id": "_gSOm03c8RAW"
      },
      "execution_count": null,
      "outputs": []
    },
    {
      "cell_type": "code",
      "source": [
        "a = tf.Variable(0.0)\n",
        "b = tf.Variable(0.0)\n",
        "\n",
        "EPOCHS = 300\n",
        "\n",
        "for epoch in range(1, EPOCHS+1):\n",
        "    with tf.GradientTape() as tape:\n",
        "        mse = cal_mse(x, y, a, b)\n",
        "    if mse < 0.00001:\n",
        "        break\n",
        "    \n",
        "    grade = tape.gradient(mse, {'a':a, 'b':b})\n",
        "    d_a, d_b = grade['a'], grade['b']\n",
        "    a.assign_sub(d_a * 0.05)## a = a - d_a*0.05(학습률)\n",
        "    b.assign_sub(d_b * 0.05)## b = b - d_b*0.05(학습률)\n",
        "\n",
        "    if epoch % 20 == 0:\n",
        "        print(\"EPOCH %d - MSE : %.4f - a: %.2f - b : %.2f\"%(epoch, mse, a, b))"
      ],
      "metadata": {
        "id": "XoBE9RfU8URL"
      },
      "execution_count": null,
      "outputs": []
    },
    {
      "cell_type": "code",
      "source": [
        "y_pred = 3*x -2\n",
        "plt.scatter(x,y)\n",
        "plt.plot(x, y_pred, color = 'r')\n",
        "plt.show()"
      ],
      "metadata": {
        "id": "l09TvYg5-8KU"
      },
      "execution_count": null,
      "outputs": []
    },
    {
      "cell_type": "code",
      "source": [
        "##데이터셋 생성(노이즈 첨가)\n",
        "g = tf.random.Generator.from_seed(2020)\n",
        "x1 = g.normal(shape = (10,))\n",
        "noise = np.random.normal(-abs(noise),abs(noise),size = (10,))\n",
        "y = 3*x - 2 + noise"
      ],
      "metadata": {
        "id": "5wKeXo8S_-rW"
      },
      "execution_count": null,
      "outputs": []
    },
    {
      "cell_type": "code",
      "source": [
        "a = tf.Variable(0.0)\n",
        "b = tf.Variable(0.0)\n",
        "\n",
        "EPOCHS = 1000\n",
        "\n",
        "for epoch in range(1, EPOCHS+1):\n",
        "    with tf.GradientTape() as tape:\n",
        "        mse = cal_mse(x1, y, a, b)\n",
        "    if mse < 0.000001:\n",
        "        break\n",
        "    \n",
        "    grade = tape.gradient(mse, {'a':a, 'b':b})\n",
        "    d_a, d_b = grade['a'], grade['b']\n",
        "    a.assign_sub(d_a * 0.05)## a = a - d_a*0.05(학습률)\n",
        "    b.assign_sub(d_b * 0.05)## b = b - d_b*0.05(학습률)\n",
        "\n",
        "    if epoch % 20 == 0:\n",
        "        print(\"EPOCH %d - MSE : %.4f - a: %.2f - b : %.2f\"%(epoch, mse, a, b))"
      ],
      "metadata": {
        "id": "evXwjxn-ArMu"
      },
      "execution_count": null,
      "outputs": []
    },
    {
      "cell_type": "code",
      "source": [
        "y_pred = 2.85*x1 -2.33\n",
        "plt.scatter(x,y)\n",
        "plt.plot(x1, y_pred, color = 'r')\n",
        "plt.show()"
      ],
      "metadata": {
        "id": "yZvEtVbEBJ-X"
      },
      "execution_count": null,
      "outputs": []
    }
  ]
}
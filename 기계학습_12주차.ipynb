{
  "nbformat": 4,
  "nbformat_minor": 0,
  "metadata": {
    "colab": {
      "private_outputs": true,
      "provenance": [],
      "mount_file_id": "1UOfldvh9W_kdx8-4tZNB1gIlTkS2EhRY",
      "authorship_tag": "ABX9TyPw/Tel/BEedwrkvwx0uoUP",
      "include_colab_link": true
    },
    "kernelspec": {
      "name": "python3",
      "display_name": "Python 3"
    },
    "language_info": {
      "name": "python"
    }
  },
  "cells": [
    {
      "cell_type": "markdown",
      "metadata": {
        "id": "view-in-github",
        "colab_type": "text"
      },
      "source": [
        "<a href=\"https://colab.research.google.com/github/wndgua0468/machine_learning/blob/main/%EA%B8%B0%EA%B3%84%ED%95%99%EC%8A%B5_12%EC%A3%BC%EC%B0%A8.ipynb\" target=\"_parent\"><img src=\"https://colab.research.google.com/assets/colab-badge.svg\" alt=\"Open In Colab\"/></a>"
      ]
    },
    {
      "cell_type": "code",
      "execution_count": null,
      "metadata": {
        "id": "_E82Tunz8MeS"
      },
      "outputs": [],
      "source": [
        "import os\n",
        "import shutil\n",
        "source_file = \"/content/archive.zip\"\n",
        "\n",
        "extract_folder = \"/content/\"\n",
        "\n",
        "shutil.unpack_archive(source_file, extract_folder)"
      ]
    },
    {
      "cell_type": "code",
      "source": [
        "from google.colab import drive\n",
        "drive.mount('/content/drive')"
      ],
      "metadata": {
        "id": "3IrljSpe8twn"
      },
      "execution_count": null,
      "outputs": []
    },
    {
      "cell_type": "code",
      "source": [
        "import tensorflow as tf\n",
        "from tensorflow.keras.preprocessing.image import ImageDataGenerator\n",
        "from tensorflow.keras.callbacks import ModelCheckpoint"
      ],
      "metadata": {
        "id": "fh-l09mnL7-M"
      },
      "execution_count": null,
      "outputs": []
    },
    {
      "cell_type": "code",
      "source": [
        "train_dir = \"/content/training_set/training_set\"\n",
        "valid_dir = \"/content/test_set/test_set\""
      ],
      "metadata": {
        "id": "Wg0OxYy1M2mp"
      },
      "execution_count": null,
      "outputs": []
    },
    {
      "cell_type": "code",
      "source": [
        "image_gen_aug = ImageDataGenerator(rescale = 1/255.,\n",
        "                                   horizontal_flip=True,\n",
        "                                   rotation_range = 35,\n",
        "                                   zoom_range = 0.2\n",
        "                                   )\n",
        "train_gen = image_gen_aug.flow_from_directory(train_dir,\n",
        "                                              batch_size = 32,\n",
        "                                              target_size = (224,224),\n",
        "                                              classes = ['cats', 'dogs'],\n",
        "                                              class_mode = 'binary')\n",
        "valid_gen = image_gen_aug.flow_from_directory(valid_dir,\n",
        "                                              batch_size = 32,\n",
        "                                              target_size = (224,224),\n",
        "                                              classes = ['cats', 'dogs'],\n",
        "                                              class_mode = 'binary')"
      ],
      "metadata": {
        "id": "itbfXrUnNkxN"
      },
      "execution_count": null,
      "outputs": []
    },
    {
      "cell_type": "code",
      "source": [
        "from tensorflow.keras.callbacks import ModelCheckpoint\n",
        "\n",
        "def solution_model():\n",
        "    model = tf.keras.Sequential([\n",
        "        tf.keras.layers.BatchNormalization(),\n",
        "        tf.keras.layers.Conv2D(32, (3, 3), padding='same', activation='relu'),\n",
        "        tf.keras.layers.MaxPooling2D(2, 2),\n",
        "\n",
        "        tf.keras.layers.BatchNormalization(),\n",
        "        tf.keras.layers.Conv2D(64, (3, 3), padding='same', activation='relu'),\n",
        "        tf.keras.layers.MaxPooling2D(2, 2),\n",
        "\n",
        "        tf.keras.layers.BatchNormalization(),\n",
        "        tf.keras.layers.Conv2D(128, (3, 3), padding='same', activation='relu'),\n",
        "        tf.keras.layers.MaxPooling2D(2, 2),\n",
        "\n",
        "        tf.keras.layers.Flatten(),\n",
        "        tf.keras.layers.Dense(256, activation='relu'),\n",
        "        tf.keras.layers.Dropout(0.3),\n",
        "        tf.keras.layers.Dense(1, activation='sigmoid')\n",
        "    ])\n",
        "\n",
        "    model.compile(optimizer=tf.keras.optimizers.Adam(learning_rate=0.01),\n",
        "                  loss=tf.keras.losses.BinaryCrossentropy(from_logits=False),\n",
        "                  metrics=['accuracy']\n",
        "                  )\n",
        "\n",
        "    checkpoint_path = 'temp_checkpoint.ckpt'\n",
        "    checkpoint = ModelCheckpoint(filepath=checkpoint_path,\n",
        "                                 save_weights_only=True,\n",
        "                                 save_best_only=True,\n",
        "                                 monitor='val_loss',\n",
        "                                 verbose=1\n",
        "                                 )\n",
        "    model.fit(train_gen, validation_data=valid_gen,\n",
        "              epochs=10, callbacks=[checkpoint])\n",
        "\n",
        "    model.load_weights(checkpoint_path)\n",
        "    return model"
      ],
      "metadata": {
        "id": "nkm_HQpqQArh"
      },
      "execution_count": null,
      "outputs": []
    },
    {
      "cell_type": "code",
      "source": [
        "if __name__ == '__main__':\n",
        "    model = solution_model()\n",
        "    model.save(\"TF3-cats-vs-dogs.h5\")"
      ],
      "metadata": {
        "id": "9VBAjtwGX4dy"
      },
      "execution_count": null,
      "outputs": []
    },
    {
      "cell_type": "code",
      "source": [
        "import tensorflow\n",
        "import urllib\n",
        "import zipapp\n"
      ],
      "metadata": {
        "id": "y7BWgAd8s6q_"
      },
      "execution_count": null,
      "outputs": []
    },
    {
      "cell_type": "code",
      "source": [
        "url = \"https://www.kaggle.com/datasets/tongpython/cat-and-dog?resource=download\"\n",
        "\n",
        "urllib.request.urlretrieve(url, 'cats_and_dogs_filtered.zip')"
      ],
      "metadata": {
        "id": "GHKNhMvLtleP"
      },
      "execution_count": null,
      "outputs": []
    },
    {
      "cell_type": "code",
      "source": [
        "from keras.optimizers import optimizer\n",
        "local_zip = '/content/cats_and_dogs_filtered.zip'\n",
        "zip_ref = zipfile.ZipFile(local_zip, 'r')\n",
        "zip_ref.extracall('/content')\n",
        "zip_ref.close()\n",
        "\n",
        "train_dir = '/content/cats_and_dogs_filtered.zip'\n",
        "valid_dir = '/content/cats_and_dogs_filtered/validation'\n",
        "\n",
        "##데이터 종강\n",
        "from tensorflow.keras.preprocessing.image import ImageDataGenerator\n",
        "from tensorflow.keras.callbacks import ModelCheckpoint\n",
        "from tensorflow.keras.optimizers import RMSprop"
      ],
      "metadata": {
        "id": "l4AXaGIhvi4v"
      },
      "execution_count": null,
      "outputs": []
    },
    {
      "cell_type": "code",
      "source": [
        "from tensorflow.keras.preprocessing.image import ImageDataGenerator\n",
        "from tensorflow.keras.callbacks import ModelCheckpoint\n",
        "from tensorflow.keras.optimizers import RMSprop\n",
        "\n",
        "train_dir = '/content/cats_and_dogs_filtered.zip'\n",
        "valid_dir = '/content/cats_and_dogs_filtered/validation'\n",
        "\n",
        "train_datagen = ImageDataGenerator(rescale=1/255.,\n",
        "                                   horizontal_flip = True,\n",
        "                                   rotation_range = 35,\n",
        "                                   zoom_range = 0.2)\n",
        "trian_gen = train_datagen.flow_from_directory(train_dir,\n",
        "                                              target_size = (224,224),\n",
        "                                              batch_size = 32,\n",
        "                                              classes = ['cats', 'dogs'],\n",
        "                                              class_mode = 'binary')\n",
        "\n",
        "valid_datagen = train_datagen = ImageDataGenerator(rescale=1/255.,\n",
        "                                   horizontal_flip = True,\n",
        "                                   rotation_range = 35,\n",
        "                                   zoom_range = 0.2)\n",
        "\n",
        "valid_gen = train_datagen.flow_from_directory(valid_dir,\n",
        "                                              target_size = (224,224),\n",
        "                                              batch_size = 32,\n",
        "                                              classes = ['cats', 'dogs'],\n",
        "                                              class_mode = 'binary')"
      ],
      "metadata": {
        "id": "3FagkAbr_cwm"
      },
      "execution_count": null,
      "outputs": []
    },
    {
      "cell_type": "code",
      "source": [
        "from keras.saving.legacy.save import load_weights\n",
        "from keras.saving.saving_lib import save_weights_only\n",
        "from keras.saving.saving_api import save_weights\n",
        "from tensorflow.python.ops.gen_control_flow_ops import merge\n",
        "def solution_model():\n",
        "\n",
        "  model = tf.keras.Sequential([\n",
        "      ##convolution층\n",
        "      tf.keras.llayers.BatchNormalization(),\n",
        "      tf.keras.layers.Conv2D(32,(3,3),padding='same', activation='relu'),\n",
        "      tf.keras.layers.MaxPooling2D((2,2)),\n",
        "\n",
        "      tf.keras.llayers.BatchNormalization(),\n",
        "      tf.keras.layers.Conv2D(32,(3,3),padding='same', activation='relu'),\n",
        "      tf.keras.layers.MaxPooling2D((2,2)),\n",
        "\n",
        "      tf.keras.llayers.BatchNormalization(),\n",
        "      tf.keras.layers.Conv2D(32,(3,3),padding='same', activation='relu'),\n",
        "      tf.keras.layers.MaxPooling2D((2,2)),\n",
        "\n",
        "      ##출력층\n",
        "      tf.keras.layers.Flatten(),\n",
        "      tf.keras.laters.Dense(256, activation='relu'),\n",
        "      tf.keras.laters.Dropout(0,3),\n",
        "      tf.keras.layers.Dense(1, activation='sigmoid')\n",
        "  ])\n",
        "\n",
        "  model.compile(optimizer=tf.optimizers.Adam(lr=0.01),\n",
        "                loss=tf.keras.losses.BinaryCrossentropy(from_logits=True),\n",
        "                metrics=['accuracy'])\n",
        "  \n",
        "  checkpoint_path='tmo_checkpoint.ckpt'\n",
        "  checkpoint = ModelCheckpoint(filepath = checkpoint_path,\n",
        "                               save_weights_only=True,\n",
        "                               save_best_only=True,\n",
        "                               monitor='val_loss',\n",
        "                               verbose=1)\n",
        "  \n",
        "  model.fit(train_gen, validation_data=valid_gen,\n",
        "            epoch = 10, callbacks=[checkpoint])\n",
        "  \n",
        "  model,load_weights( checkpoint_path)\n",
        "  return model\n",
        "\n",
        "if __name__ == '__main__':\n",
        "    model = solution_model()\n",
        "    model.save(\"TF5-sunspots-type-B.h5\")"
      ],
      "metadata": {
        "id": "ddUUxP-CFGzE"
      },
      "execution_count": null,
      "outputs": []
    }
  ]
}
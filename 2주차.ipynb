{
  "nbformat": 4,
  "nbformat_minor": 0,
  "metadata": {
    "colab": {
      "private_outputs": true,
      "provenance": [],
      "authorship_tag": "ABX9TyMSxbgLUm625R0NfsGUeJoz",
      "include_colab_link": true
    },
    "kernelspec": {
      "name": "python3",
      "display_name": "Python 3"
    },
    "language_info": {
      "name": "python"
    }
  },
  "cells": [
    {
      "cell_type": "markdown",
      "metadata": {
        "id": "view-in-github",
        "colab_type": "text"
      },
      "source": [
        "<a href=\"https://colab.research.google.com/github/wndgua0468/machine_learning/blob/main/2%EC%A3%BC%EC%B0%A8.ipynb\" target=\"_parent\"><img src=\"https://colab.research.google.com/assets/colab-badge.svg\" alt=\"Open In Colab\"/></a>"
      ]
    },
    {
      "cell_type": "code",
      "source": [
        "#"
      ],
      "metadata": {
        "id": "v-aRNt76WhSb"
      },
      "execution_count": null,
      "outputs": []
    },
    {
      "cell_type": "code",
      "execution_count": null,
      "metadata": {
        "id": "CYX6lkGbVwOy"
      },
      "outputs": [],
      "source": [
        "a = 3\n",
        "b = 7.9\n",
        "c = \"Hello\""
      ]
    },
    {
      "cell_type": "markdown",
      "source": [
        "입력과 출력\n",
        "input() print()"
      ],
      "metadata": {
        "id": "3IXm2e8RWuub"
      }
    },
    {
      "cell_type": "code",
      "source": [
        "a = input()"
      ],
      "metadata": {
        "id": "xp5HIUaQW3ST"
      },
      "execution_count": null,
      "outputs": []
    },
    {
      "cell_type": "code",
      "source": [
        "a"
      ],
      "metadata": {
        "id": "fKQrqP7bW9R7"
      },
      "execution_count": null,
      "outputs": []
    },
    {
      "cell_type": "code",
      "source": [
        "x = 3"
      ],
      "metadata": {
        "id": "O5-NM9QNXAN6"
      },
      "execution_count": null,
      "outputs": []
    },
    {
      "cell_type": "code",
      "source": [
        "x"
      ],
      "metadata": {
        "id": "3hBKpjTxXFO7"
      },
      "execution_count": null,
      "outputs": []
    },
    {
      "cell_type": "code",
      "source": [
        "type(a)"
      ],
      "metadata": {
        "id": "8uGxchdgXHPS"
      },
      "execution_count": null,
      "outputs": []
    },
    {
      "cell_type": "code",
      "source": [
        "type(x)"
      ],
      "metadata": {
        "id": "iz3p8fIhXLPL"
      },
      "execution_count": null,
      "outputs": []
    },
    {
      "cell_type": "code",
      "source": [
        "a = int(input())"
      ],
      "metadata": {
        "id": "f1Ndeh7nXkbr"
      },
      "execution_count": null,
      "outputs": []
    },
    {
      "cell_type": "code",
      "source": [
        "print(a)"
      ],
      "metadata": {
        "id": "j9LsT8VLYH_a"
      },
      "execution_count": null,
      "outputs": []
    },
    {
      "cell_type": "code",
      "source": [
        "print(x)"
      ],
      "metadata": {
        "id": "mPSGbPXofA-b"
      },
      "execution_count": null,
      "outputs": []
    },
    {
      "cell_type": "code",
      "source": [
        "c = \"Hello\""
      ],
      "metadata": {
        "id": "PDxyLxrafWDK"
      },
      "execution_count": null,
      "outputs": []
    },
    {
      "cell_type": "code",
      "source": [
        "print(\"{} 와 {}와 {} 를 출력하라\".format(a,b,c))"
      ],
      "metadata": {
        "id": "CKtIyYw_YL9q"
      },
      "execution_count": null,
      "outputs": []
    },
    {
      "cell_type": "code",
      "source": [
        "print(\"%d %f %s 를 출력하라\"%(a,b,c))"
      ],
      "metadata": {
        "id": "UiHAowd-ZMaj"
      },
      "execution_count": null,
      "outputs": []
    },
    {
      "cell_type": "code",
      "source": [
        "x = round(x,3)"
      ],
      "metadata": {
        "id": "M7bxhX4_ZyoD"
      },
      "execution_count": null,
      "outputs": []
    },
    {
      "cell_type": "markdown",
      "source": [
        "인덱싱 슬라이싱"
      ],
      "metadata": {
        "id": "lU3rf__3aIsz"
      }
    },
    {
      "cell_type": "code",
      "source": [
        "str1 = \"Hello~~!! Python\""
      ],
      "metadata": {
        "id": "fjaYNagYaLCB"
      },
      "execution_count": null,
      "outputs": []
    },
    {
      "cell_type": "code",
      "source": [
        "len(str1)"
      ],
      "metadata": {
        "id": "4glFaFWDaUha"
      },
      "execution_count": null,
      "outputs": []
    },
    {
      "cell_type": "code",
      "source": [
        "str1[15]"
      ],
      "metadata": {
        "id": "YrrIzGXDaZ3J"
      },
      "execution_count": null,
      "outputs": []
    },
    {
      "cell_type": "code",
      "source": [
        "str1[-1]"
      ],
      "metadata": {
        "id": "iiuon7zraceS"
      },
      "execution_count": null,
      "outputs": []
    },
    {
      "cell_type": "code",
      "source": [
        "str1[0:]"
      ],
      "metadata": {
        "id": "F0vCO7vHa3iy"
      },
      "execution_count": null,
      "outputs": []
    },
    {
      "cell_type": "code",
      "source": [
        "str1[3:]"
      ],
      "metadata": {
        "id": "G5MVZ_HTa7Rq"
      },
      "execution_count": null,
      "outputs": []
    },
    {
      "cell_type": "code",
      "source": [
        "str1[3:6]"
      ],
      "metadata": {
        "id": "dVjo-G-ibhr6"
      },
      "execution_count": null,
      "outputs": []
    },
    {
      "cell_type": "code",
      "source": [
        "str1[:-1]"
      ],
      "metadata": {
        "id": "9nNZ6SDla_nD"
      },
      "execution_count": null,
      "outputs": []
    },
    {
      "cell_type": "markdown",
      "source": [
        "딕셔너리"
      ],
      "metadata": {
        "id": "-EHkdVbOc3j7"
      }
    },
    {
      "cell_type": "code",
      "source": [
        "dict1 = {\"name\":\"park\", \"age\":\"24\",\"school\":\"Halla\"}"
      ],
      "metadata": {
        "id": "1GqnJ8lYc6nS"
      },
      "execution_count": null,
      "outputs": []
    },
    {
      "cell_type": "code",
      "source": [
        "dict1[\"name\"]"
      ],
      "metadata": {
        "id": "X36U5fsYdTQD"
      },
      "execution_count": null,
      "outputs": []
    },
    {
      "cell_type": "code",
      "source": [
        "dict1.keys()"
      ],
      "metadata": {
        "id": "3nr8XlNzdqgU"
      },
      "execution_count": null,
      "outputs": []
    },
    {
      "cell_type": "code",
      "source": [
        "dict1.items()"
      ],
      "metadata": {
        "id": "7QXbYvHWdxer"
      },
      "execution_count": null,
      "outputs": []
    },
    {
      "cell_type": "code",
      "source": [
        "dict1.values()"
      ],
      "metadata": {
        "id": "BaWVvGcud3xZ"
      },
      "execution_count": null,
      "outputs": []
    },
    {
      "cell_type": "markdown",
      "source": [
        "제어문 / 반복문 / 함수만들기"
      ],
      "metadata": {
        "id": "Khc1eAH1jF9Y"
      }
    },
    {
      "cell_type": "code",
      "source": [
        "x = 3\n",
        "y = 7\n",
        "z = 11"
      ],
      "metadata": {
        "id": "ZcVz11n7jJux"
      },
      "execution_count": null,
      "outputs": []
    },
    {
      "cell_type": "code",
      "source": [
        "a1 = z/x"
      ],
      "metadata": {
        "id": "XUYRWGcbjQdZ"
      },
      "execution_count": null,
      "outputs": []
    },
    {
      "cell_type": "code",
      "source": [
        "a1 = round(a1,4)"
      ],
      "metadata": {
        "id": "s85bXJn4jcIq"
      },
      "execution_count": null,
      "outputs": []
    },
    {
      "cell_type": "code",
      "source": [
        "a1"
      ],
      "metadata": {
        "id": "Z2u7Q9-GjrnS"
      },
      "execution_count": null,
      "outputs": []
    },
    {
      "cell_type": "code",
      "source": [
        "z//x\n"
      ],
      "metadata": {
        "id": "Ifow5lkpjxnk"
      },
      "execution_count": null,
      "outputs": []
    },
    {
      "cell_type": "code",
      "source": [
        "z%x"
      ],
      "metadata": {
        "id": "oDktrMTPj0XE"
      },
      "execution_count": null,
      "outputs": []
    },
    {
      "cell_type": "code",
      "source": [
        "if a<3:\n",
        "  print(\"True\")\n",
        "else:\n",
        "  print(\"False\")  "
      ],
      "metadata": {
        "id": "GYC9f7lAj8T8"
      },
      "execution_count": null,
      "outputs": []
    },
    {
      "cell_type": "code",
      "source": [
        "num = int(input(\"숫자를 입력하세요: \"))\n",
        "\n",
        "if num % 2 == 0:\n",
        "    print(\"입력한 숫자는 짝수입니다.\")\n",
        "else:\n",
        "    print(\"입력한 숫자는 홀수입니다.\")"
      ],
      "metadata": {
        "id": "67EU6YaFj8Rb"
      },
      "execution_count": null,
      "outputs": []
    },
    {
      "cell_type": "code",
      "source": [
        "score = int(input(\"점수를 입력하세요: \"))\n",
        "\n",
        "if score >= 90:\n",
        "    grade = \"A\"\n",
        "elif score >= 80:\n",
        "    grade = \"B\"\n",
        "elif score >= 70:\n",
        "    grade = \"C\"\n",
        "elif score >= 60:\n",
        "    grade = \"D\"\n",
        "else:\n",
        "    grade = \"F\"\n",
        "\n",
        "print(\"입력하신 점수의 학점은 {}입니다.\".format(grade))"
      ],
      "metadata": {
        "id": "HBrSEg1Tj8Oc"
      },
      "execution_count": null,
      "outputs": []
    },
    {
      "cell_type": "code",
      "source": [
        "pw = \"Abcd !#12\"\n",
        "\n"
      ],
      "metadata": {
        "id": "4X9edCQij8L0"
      },
      "execution_count": null,
      "outputs": []
    },
    {
      "cell_type": "markdown",
      "source": [
        "윤년계산산"
      ],
      "metadata": {
        "id": "ShHJiRXQsVS5"
      }
    },
    {
      "cell_type": "code",
      "source": [
        "year = int(input(\"년도를 입력하시오 : \"))\n",
        "\n",
        "if year % 4 == 0 :\n",
        "    if year % 100 == 0 :\n",
        "        if year % 400 == 0 :\n",
        "            print(year, \"년은 윤년입니다\")\n",
        "        else :\n",
        "            print(year, \"년은 평년입니다\")\n",
        "    else :\n",
        "        print(year, \"년은 윤년입니다\")\n",
        "else :\n",
        "    print(year, \"년은 평년입니다\")"
      ],
      "metadata": {
        "id": "bYeiItz5sX6P"
      },
      "execution_count": null,
      "outputs": []
    },
    {
      "cell_type": "markdown",
      "source": [
        "태어난 해 입력\"띠\""
      ],
      "metadata": {
        "id": "-iY3lg66tcUK"
      }
    },
    {
      "cell_type": "code",
      "source": [
        "year_input=int(input(\"태어난 해를 입력> \"))\n",
        "birth_year=year_input%12\n",
        "\n",
        "if birth_year==0:\n",
        "    print(\"원숭이 띠입니다.\")\n",
        "\n",
        "elif birth_year==1:\n",
        "    print(\"닭 띠입니다.\")\n",
        "\n",
        "elif birth_year==2:\n",
        "    print(\"개 띠입니다.\")\n",
        "\n",
        "elif birth_year==3:\n",
        "    print(\"돼지 띠입니다.\")\n",
        "\n",
        "elif birth_year==4:\n",
        "    print(\"쥐 띠입니다.\")\n",
        "\n",
        "elif birth_year==5:\n",
        "    print(\"소 띠입니다.\")\n",
        "\n",
        "elif birth_year==6:\n",
        "    print(\"범 띠입니다.\")\n",
        "\n",
        "elif birth_year==7:\n",
        "    print(\"토끼 띠입니다.\")\n",
        "\n",
        "elif birth_year==8:\n",
        "    print(\"용 띠입니다.\")\n",
        "\n",
        "elif birth_year==9:\n",
        "    print(\"뱀 띠입니다.\")\n",
        "\n",
        "elif birth_year==10:\n",
        "    print(\"말 띠입니다.\")\n",
        "\n",
        "else:\n",
        "    print(\"양 띠입니다.\")"
      ],
      "metadata": {
        "id": "1nfIBDO6thvH"
      },
      "execution_count": null,
      "outputs": []
    }
  ]
}
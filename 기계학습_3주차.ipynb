{
  "nbformat": 4,
  "nbformat_minor": 0,
  "metadata": {
    "colab": {
      "private_outputs": true,
      "provenance": [],
      "authorship_tag": "ABX9TyPSkQHSSzNlgz/t/ssHokgA",
      "include_colab_link": true
    },
    "kernelspec": {
      "name": "python3",
      "display_name": "Python 3"
    },
    "language_info": {
      "name": "python"
    }
  },
  "cells": [
    {
      "cell_type": "markdown",
      "metadata": {
        "id": "view-in-github",
        "colab_type": "text"
      },
      "source": [
        "<a href=\"https://colab.research.google.com/github/wndgua0468/machine_learning/blob/main/%EA%B8%B0%EA%B3%84%ED%95%99%EC%8A%B5_3%EC%A3%BC%EC%B0%A8.ipynb\" target=\"_parent\"><img src=\"https://colab.research.google.com/assets/colab-badge.svg\" alt=\"Open In Colab\"/></a>"
      ]
    },
    {
      "cell_type": "markdown",
      "source": [
        "반복문 for, while"
      ],
      "metadata": {
        "id": "2n-tcBMcXOuz"
      }
    },
    {
      "cell_type": "code",
      "execution_count": null,
      "metadata": {
        "id": "YbHc0qQ3XJtj"
      },
      "outputs": [],
      "source": [
        "for i in range(10):\n",
        "  print(i)"
      ]
    },
    {
      "cell_type": "code",
      "source": [
        "a = [1,3,5,7,9,11,13]\n",
        "for i in a:\n",
        "  print(a[2*i+1])\n"
      ],
      "metadata": {
        "id": "KaNSE4YsYn8L"
      },
      "execution_count": null,
      "outputs": []
    },
    {
      "cell_type": "code",
      "source": [
        "a = []\n",
        "for i in range(1,4):\n",
        "   a.append(i)\n",
        "   print(a)"
      ],
      "metadata": {
        "id": "FR2FQIVUaWVg"
      },
      "execution_count": null,
      "outputs": []
    },
    {
      "cell_type": "code",
      "source": [
        "b = []\n",
        "for i in range(4,7):\n",
        "  b.append(i)\n",
        "  print(b)"
      ],
      "metadata": {
        "id": "LmYRkTLta1gy"
      },
      "execution_count": null,
      "outputs": []
    },
    {
      "cell_type": "code",
      "source": [
        "c = []\n",
        "for i in range(3,6):\n",
        "  c.append(i)\n",
        "  print(c)"
      ],
      "metadata": {
        "id": "eJhAHIFCbCgB"
      },
      "execution_count": null,
      "outputs": []
    },
    {
      "cell_type": "code",
      "source": [
        "##합집합\n",
        "U1 = a+b\n",
        "U1"
      ],
      "metadata": {
        "id": "x4WliwX2bNbK"
      },
      "execution_count": null,
      "outputs": []
    },
    {
      "cell_type": "code",
      "source": [
        "U2 = a+c\n",
        "U2"
      ],
      "metadata": {
        "id": "GdvFXeBrbVRC"
      },
      "execution_count": null,
      "outputs": []
    },
    {
      "cell_type": "code",
      "source": [
        "a = [1,2,3]\n",
        "b = [4,5,6]\n",
        "c = [3,4,5,]\n",
        "for i in a:\n",
        "  if i in c:\n",
        "    a.remove(i)\n",
        "a"
      ],
      "metadata": {
        "id": "vPvtEOu4d3te"
      },
      "execution_count": null,
      "outputs": []
    },
    {
      "cell_type": "code",
      "source": [
        "I = []\n",
        "for i in a:\n",
        "  if i in c:\n",
        "\n",
        "    I.append(i)\n",
        "I    "
      ],
      "metadata": {
        "id": "VGBdyBCobeFZ"
      },
      "execution_count": null,
      "outputs": []
    },
    {
      "cell_type": "code",
      "source": [
        "for i in  a:\n",
        "  if i in c:\n",
        "    a.remove(i)\n",
        "    a"
      ],
      "metadata": {
        "id": "AVnGodJ-belC"
      },
      "execution_count": null,
      "outputs": []
    },
    {
      "cell_type": "code",
      "source": [
        "U = a+b\n",
        "U"
      ],
      "metadata": {
        "id": "WNZ3o43neMca"
      },
      "execution_count": null,
      "outputs": []
    },
    {
      "cell_type": "code",
      "source": [
        "a = [1,2,3]\n",
        "b = [4,5,6]\n",
        "c = [3,4,5]\n",
        "for i in a:\n",
        "  if i not in c:\n",
        "    c.append(i)\n",
        "c    "
      ],
      "metadata": {
        "id": "B9gf9mzFelfo"
      },
      "execution_count": null,
      "outputs": []
    },
    {
      "cell_type": "code",
      "source": [
        "c.sort()"
      ],
      "metadata": {
        "id": "_YWySfrQfmEo"
      },
      "execution_count": null,
      "outputs": []
    },
    {
      "cell_type": "code",
      "source": [
        "c"
      ],
      "metadata": {
        "id": "x-1eQgvyfpwI"
      },
      "execution_count": null,
      "outputs": []
    },
    {
      "cell_type": "code",
      "source": [
        "a = [1, 2, 3]\n",
        "b = [4, 5, 6]\n",
        "c = [3, 4, 5]\n",
        "for i in a:\n",
        "  "
      ],
      "metadata": {
        "id": "mtolDeqif0KY"
      },
      "execution_count": null,
      "outputs": []
    },
    {
      "cell_type": "markdown",
      "source": [
        "while"
      ],
      "metadata": {
        "id": "uJzFY_JIkaa4"
      }
    },
    {
      "cell_type": "code",
      "source": [
        "num=0\n",
        "while num<10:\n",
        "  print(num)\n",
        "  num+=1"
      ],
      "metadata": {
        "id": "o1hMDJOkkc1w"
      },
      "execution_count": null,
      "outputs": []
    },
    {
      "cell_type": "code",
      "source": [
        "num = 1\n",
        "while num < 9:\n",
        "  sum num * 2   \n",
        "  print(\"2*%d=%d\"%(num,sum))  \n",
        "  num += 1"
      ],
      "metadata": {
        "id": "KJUqPvTFk59B"
      },
      "execution_count": null,
      "outputs": []
    },
    {
      "cell_type": "code",
      "source": [
        " print(\"숫자입력\\n\")\n",
        "  num = input()\n",
        "  if num == \"123456789!!!\":\n",
        "    print(\"로그인이 되었습니다. \\n\")\n",
        "    break    \n",
        "else:  \n",
        "  print(\"실패 다시 입력해주세요 \\n\")"
      ],
      "metadata": {
        "id": "WIOzR1QAninm"
      },
      "execution_count": null,
      "outputs": []
    },
    {
      "cell_type": "code",
      "source": [
        "##로그인 될때까지 물어보기\n",
        "while True:\n",
        "  print(\"숫자입력\\n\")\n",
        "  num = input()\n",
        "  if num == \"123456789!!!\":\n",
        "    print(\"로그인이 되었습니다. \\n\")\n",
        "    break    \n",
        "else:  \n",
        "  print(\"실패 다시 입력해주세요 \\n\")\n",
        "  continue"
      ],
      "metadata": {
        "id": "yfK5eZR3mDQM"
      },
      "execution_count": null,
      "outputs": []
    },
    {
      "cell_type": "markdown",
      "source": [
        "로또 번호 6개 추출"
      ],
      "metadata": {
        "id": "t6niXAsyqLxA"
      }
    },
    {
      "cell_type": "code",
      "source": [
        "import random"
      ],
      "metadata": {
        "id": "JHdjyPuepyqn"
      },
      "execution_count": null,
      "outputs": []
    },
    {
      "cell_type": "code",
      "source": [
        "num_range = range(1,46)\n",
        "num_list = list(num_range)\n",
        "print(num_list)"
      ],
      "metadata": {
        "id": "Kh9PK61CqWVN"
      },
      "execution_count": null,
      "outputs": []
    },
    {
      "cell_type": "code",
      "source": [
        "random.shuffle(num_list)\n",
        "print(num_list)\n",
        "len(num_list)"
      ],
      "metadata": {
        "id": "AYWft0Etqokm"
      },
      "execution_count": null,
      "outputs": []
    },
    {
      "cell_type": "code",
      "source": [
        "lotto = []\n",
        "while len(lotto)<6:\n",
        "  random.shuffle(num_list)\n",
        "\n",
        "  num_seleccted = num_list[-1]\n",
        "  lotto.append(num_seleccted)\n",
        "  print(lotto)"
      ],
      "metadata": {
        "id": "NSFojMz6sWAu"
      },
      "execution_count": null,
      "outputs": []
    },
    {
      "cell_type": "markdown",
      "source": [
        "숫자 **샘플링**"
      ],
      "metadata": {
        "id": "U2B9mm4zs8yz"
      }
    },
    {
      "cell_type": "code",
      "source": [
        "import random"
      ],
      "metadata": {
        "id": "E4An0K1kt6qu"
      },
      "execution_count": null,
      "outputs": []
    },
    {
      "cell_type": "code",
      "source": [
        "A = []\n",
        "while True:\n",
        "  e = round(random.random(),3)\n",
        "  A.append(e)\n",
        "  if len(A) == 5:\n",
        "    break\n",
        "print(A)"
      ],
      "metadata": {
        "id": "GM-d3Cogs_bD"
      },
      "execution_count": null,
      "outputs": []
    },
    {
      "cell_type": "code",
      "source": [
        "num = 0\n",
        "while num< 10:\n",
        "  e = round(random.randint(1,30)\n",
        "  num += 1\n",
        "  print(a)"
      ],
      "metadata": {
        "id": "hBKw1G0XuJDe"
      },
      "execution_count": null,
      "outputs": []
    },
    {
      "cell_type": "code",
      "source": [
        "num = 0\n",
        "while num< 10:\n",
        "  e = round(random.randrange(-30,30,5)\n",
        "  num += 1\n",
        "  print(a)\n"
      ],
      "metadata": {
        "id": "Lf4mJnhVuqlt"
      },
      "execution_count": null,
      "outputs": []
    },
    {
      "cell_type": "markdown",
      "source": [
        "소수찾기"
      ],
      "metadata": {
        "id": "tCCZ4KT4Jlx1"
      }
    },
    {
      "cell_type": "code",
      "source": [
        "num = int(input(\"숫자를 입력하세요: \"))\n",
        "\n",
        "primes = []\n",
        "if num < 2:\n",
        "    print(primes)\n",
        "else:\n",
        "    primes.append(2)\n",
        "    i = 3\n",
        "    while i <= num:\n",
        "        for j in range(2, i):\n",
        "            if i % j == 0:\n",
        "                break\n",
        "        else:\n",
        "            primes.append(i)\n",
        "        i += 1\n",
        "\n",
        "    print(primes)\n"
      ],
      "metadata": {
        "id": "xdC1A1WBK0S9"
      },
      "execution_count": null,
      "outputs": []
    },
    {
      "cell_type": "markdown",
      "source": [
        "약수찾기\n"
      ],
      "metadata": {
        "id": "LfkZvLcWLNd0"
      }
    },
    {
      "cell_type": "code",
      "source": [
        "num = int(input(\"숫자를 입력하세요: \"))\n",
        "divisors = []\n",
        "\n",
        "i = 1\n",
        "while i <= num:\n",
        "    if num % i == 0:\n",
        "        divisors.append(i)\n",
        "    i += 1\n",
        "    if i > num/2:\n",
        "        break\n",
        "\n",
        "print(num, \"의 약수: \", end=\"\")\n",
        "for divisor in divisors:\n",
        "    print(divisor, end=\" \")\n"
      ],
      "metadata": {
        "id": "DH8eAZhuLQlg"
      },
      "execution_count": null,
      "outputs": []
    },
    {
      "cell_type": "markdown",
      "source": [
        "소인수찾기\n"
      ],
      "metadata": {
        "id": "Ze435JFiMrhG"
      }
    },
    {
      "cell_type": "code",
      "source": [
        "num = int(input(\"정수를 입력하세요: \"))\n",
        "\n",
        "factors = []\n",
        "divisor = 2\n",
        "\n",
        "while num > 1:\n",
        "    if num % divisor == 0:\n",
        "        factors.append(divisor)\n",
        "        num //= divisor\n",
        "    else:\n",
        "        divisor += 1\n",
        "\n",
        "print(factors)\n"
      ],
      "metadata": {
        "id": "bFwFetCPMtdq"
      },
      "execution_count": null,
      "outputs": []
    },
    {
      "cell_type": "markdown",
      "source": [
        "최대공약수\n"
      ],
      "metadata": {
        "id": "icry4JYCPPZJ"
      }
    },
    {
      "cell_type": "code",
      "source": [
        "a = int(input(\"첫 번째 숫자를 입력하세요: \"))\n",
        "b = int(input(\"두 번째 숫자를 입력하세요: \"))\n",
        "\n",
        "factors_a = []\n",
        "factors_b = []\n",
        "\n",
        "# a의 약수 구하기\n",
        "i = 1\n",
        "while i <= a:\n",
        "    if a % i == 0:\n",
        "        factors_a.append(i)\n",
        "    i += 1\n",
        "\n",
        "# b의 약수 구하기\n",
        "i = 1\n",
        "while i <= b:\n",
        "    if b % i == 0:\n",
        "        factors_b.append(i)\n",
        "    i += 1\n",
        "\n",
        "# 공통된 약수 찾기\n",
        "common_factors = []\n",
        "for factor in factors_a:\n",
        "    if factor in factors_b:\n",
        "        common_factors.append(factor)\n",
        "\n",
        "# 최대공약수 찾기\n",
        "gcd = 1\n",
        "for factor in common_factors:\n",
        "    if factor > gcd:\n",
        "        gcd = factor\n",
        "\n",
        "print(a, \"와\", b, \"의 최대공약수는\", gcd, \"입니다.\")\n"
      ],
      "metadata": {
        "id": "cBThrlo2PTK_"
      },
      "execution_count": null,
      "outputs": []
    },
    {
      "cell_type": "markdown",
      "source": [
        "최소공배수\n"
      ],
      "metadata": {
        "id": "R1QEhadIQ53H"
      }
    },
    {
      "cell_type": "code",
      "source": [
        "def gcd(x, v):\n",
        "    while y != 0:\n",
        "        temp = y\n",
        "        y = x % y\n",
        "        x = temp\n",
        "    return x\n",
        "\n",
        "def lcm(x, y):\n",
        "    return x * y // gcd(x, y)\n"
      ],
      "metadata": {
        "id": "Qwfr-HR3Q7TU"
      },
      "execution_count": null,
      "outputs": []
    }
  ]
}